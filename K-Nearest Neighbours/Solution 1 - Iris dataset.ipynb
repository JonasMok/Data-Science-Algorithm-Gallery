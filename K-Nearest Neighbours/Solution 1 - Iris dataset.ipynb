{
 "cells": [
  {
   "cell_type": "markdown",
   "metadata": {
    "scrolled": true
   },
   "source": [
    "# K-Nearest Neighbours - solution on Iris dataset"
   ]
  },
  {
   "cell_type": "code",
   "execution_count": 1,
   "metadata": {},
   "outputs": [
    {
     "name": "stdout",
     "output_type": "stream",
     "text": [
      "Populating the interactive namespace from numpy and matplotlib\n"
     ]
    }
   ],
   "source": [
    "%pylab inline\n",
    "from sklearn import datasets\n",
    "from sklearn.model_selection import train_test_split\n",
    "from sklearn.neighbors import KNeighborsClassifier\n",
    "\n",
    "import numpy as np\n",
    "import pandas as pd\n",
    "\n",
    "iris = datasets.load_iris()"
   ]
  },
  {
   "cell_type": "markdown",
   "metadata": {},
   "source": [
    "## Scikit-Learn Implementation\n",
    "The code below presents the solution with a single line of code, as per **Scikit-Learn** [documentation](https://scikit-learn.org/stable/modules/generated/sklearn.neighbors.KNeighborsClassifier.html).\n",
    "Note that the default settings uses _Minkowski distance_:\n",
    "$$d(\\vec{x}, \\vec{y}) = \\sum_i\\left(\\left|x_i - y_i\\right|^p\\right)^{1/p}$$\n",
    "with $p = 2$, and the $K$ value was set to 3 as an aribitrary choice."
   ]
  },
  {
   "cell_type": "code",
   "execution_count": 2,
   "metadata": {},
   "outputs": [
    {
     "name": "stdout",
     "output_type": "stream",
     "text": [
      "Number of mislabeled points out of a total 150 points : 6\n"
     ]
    },
    {
     "data": {
      "image/png": "[encoded data removed]",
      "text/plain": [
       "<Figure size 432x288 with 1 Axes>"
      ]
     },
     "metadata": {
      "needs_background": "light"
     },
     "output_type": "display_data"
    }
   ],
   "source": [
    "neigh = KNeighborsClassifier(n_neighbors=3)\n",
    "y_pred = neigh.fit(iris.data, iris.target).predict(iris.data) \n",
    "print(\"Number of mislabeled points out of a total %d points : %d\"\n",
    "      % (iris.data.shape[0],(iris.target != y_pred).sum()))\n",
    "\n",
    "fig, ax = plt.subplots()\n",
    "ax.plot(y_pred, 'o')\n",
    "ax.plot(iris.target, '.')\n",
    "ax.set_ylabel('Target')\n",
    "ax.set_xlabel('Example number')\n",
    "ax.set_yticks([0, 1, 2])\n",
    "ax.legend(['Predictions', 'Original data'], loc='lower right')\n",
    "ax.grid()\n",
    "plt.show()"
   ]
  },
  {
   "cell_type": "markdown",
   "metadata": {},
   "source": [
    "Comparing the predictions with the actual labels, we can easily spot the misclassified examples (six in total).\n",
    "\n",
    "## Dataset Analysis\n",
    "Let's take a look first on selected _projections_ of the dataset on plains defined by $x_i:x_j$ feature pairs."
   ]
  },
  {
   "cell_type": "code",
   "execution_count": 3,
   "metadata": {},
   "outputs": [
    {
     "data": {
      "text/html": [
       "<div>\n",
       "<style scoped>\n",
       "    .dataframe tbody tr th:only-of-type {\n",
       "        vertical-align: middle;\n",
       "    }\n",
       "\n",
       "    .dataframe tbody tr th {\n",
       "        vertical-align: top;\n",
       "    }\n",
       "\n",
       "    .dataframe thead th {\n",
       "        text-align: right;\n",
       "    }\n",
       "</style>\n",
       "<table border=\"1\" class=\"dataframe\">\n",
       "  <thead>\n",
       "    <tr style=\"text-align: right;\">\n",
       "      <th></th>\n",
       "      <th>sepal length (cm)</th>\n",
       "      <th>sepal width (cm)</th>\n",
       "      <th>petal length (cm)</th>\n",
       "      <th>petal width (cm)</th>\n",
       "      <th>target</th>\n",
       "      <th>label</th>\n",
       "    </tr>\n",
       "  </thead>\n",
       "  <tbody>\n",
       "    <tr>\n",
       "      <th>31</th>\n",
       "      <td>5.4</td>\n",
       "      <td>3.4</td>\n",
       "      <td>1.5</td>\n",
       "      <td>0.4</td>\n",
       "      <td>0</td>\n",
       "      <td>setosa</td>\n",
       "    </tr>\n",
       "    <tr>\n",
       "      <th>96</th>\n",
       "      <td>5.7</td>\n",
       "      <td>2.9</td>\n",
       "      <td>4.2</td>\n",
       "      <td>1.3</td>\n",
       "      <td>1</td>\n",
       "      <td>versicolor</td>\n",
       "    </tr>\n",
       "    <tr>\n",
       "      <th>119</th>\n",
       "      <td>6.0</td>\n",
       "      <td>2.2</td>\n",
       "      <td>5.0</td>\n",
       "      <td>1.5</td>\n",
       "      <td>2</td>\n",
       "      <td>virginica</td>\n",
       "    </tr>\n",
       "  </tbody>\n",
       "</table>\n",
       "</div>"
      ],
      "text/plain": [
       "     sepal length (cm)  sepal width (cm)  petal length (cm)  petal width (cm)  \\\n",
       "31                 5.4               3.4                1.5               0.4   \n",
       "96                 5.7               2.9                4.2               1.3   \n",
       "119                6.0               2.2                5.0               1.5   \n",
       "\n",
       "     target       label  \n",
       "31        0      setosa  \n",
       "96        1  versicolor  \n",
       "119       2   virginica  "
      ]
     },
     "execution_count": 3,
     "metadata": {},
     "output_type": "execute_result"
    }
   ],
   "source": [
    "df = pd.DataFrame(iris.data, columns=iris.feature_names)\n",
    "df['target'] = iris.target\n",
    "df['label'] = df['target'].apply(lambda x: iris['target_names'][x])\n",
    "df.sample(3)"
   ]
  },
  {
   "cell_type": "code",
   "execution_count": 4,
   "metadata": {},
   "outputs": [
    {
     "data": {
      "image/png": "[encoded data removed]",
      "text/plain": [
       "<Figure size 576x432 with 4 Axes>"
      ]
     },
     "metadata": {
      "needs_background": "light"
     },
     "output_type": "display_data"
    }
   ],
   "source": [
    "fig, axs = plt.subplots(2, 2, figsize=(8, 6))\n",
    "plt.tight_layout(h_pad=4, w_pad=4)\n",
    "colors = ['red', 'orange', 'green']\n",
    "\n",
    "for x in range(len(iris.feature_names)):\n",
    "    for y, c in zip(range(len(iris.target)), colors):\n",
    "        axs[x % 2, x // 2].scatter(\n",
    "            df[df['target'] == y][iris.feature_names[x % 4]],\n",
    "            df[df['target'] == y][iris.feature_names[(x + 1)%4]], \n",
    "            color=c,\n",
    "            alpha=0.5)\n",
    "        axs[x % 2, x // 2].set_xlabel(iris.feature_names[x % 2])\n",
    "        axs[x % 2, x // 2].set_ylabel(iris.feature_names[x // 2])\n",
    "        axs[x % 2, x // 2].grid()\n",
    "        axs[x % 2, x // 2].legend(iris.target_names, loc='upper right')\n",
    "        axs[x % 2, x // 2].set_xlim([0.0, 8.0])\n",
    "        axs[x % 2, x // 2].set_ylim([0.0, 8.0])\n",
    "        \n",
    "plt.show()   "
   ]
  },
  {
   "cell_type": "markdown",
   "metadata": {},
   "source": [
    "It is cumbersome to plot 4-dimensional space. However, from these 2D projections, we can see that the data highly clustered. Therefore, the classification using of the distance in this case has such a high rate of success.\n",
    "Before continuing, let's split the original dataset onto training and test set.\n",
    "\n",
    "**Note:** Here we will take a half of the dataset to be our test set.\n",
    "Normally, it is recommended to take only a small fraction of the original dataset in order to be in possession of more data for training of the actual classifier.\n",
    "Here, however, we would like to illustrate the impact of choosing of different $K$ parameters, thus it is actually encourage that our training set is smaller and comparable with the test set."
   ]
  },
  {
   "cell_type": "code",
   "execution_count": 5,
   "metadata": {},
   "outputs": [
    {
     "name": "stdout",
     "output_type": "stream",
     "text": [
      "Training set #examples: 75.\n",
      "Test set     #examples: 75.\n"
     ]
    }
   ],
   "source": [
    "x_train, x_test, y_train, y_test = \\\n",
    "    train_test_split(iris.data, iris.target, test_size=0.5, random_state=0)\n",
    "print (\"Training set #examples: {}.\".format(x_train.shape[0]))\n",
    "print (\"Test set     #examples: {}.\".format(x_test.shape[0]))"
   ]
  },
  {
   "cell_type": "markdown",
   "metadata": {},
   "source": [
    "## Manual implementation\n",
    "In order to build the KNN classifier, all we need is to have an ability to calculate the _distance_ between our example data point and _all_ of our training set examples AND the definition of the distance itself.\n",
    "Since the solution requires sorting and keeping the index reference, we will use _pandas_ dataframe object, to be more verbose.\n",
    "\n",
    "Here we will use the same Minkowski distance with $p=2$. This will keep our definition \"open\", but let us treat it as an Euclidean distance."
   ]
  },
  {
   "cell_type": "code",
   "execution_count": 6,
   "metadata": {
    "scrolled": false
   },
   "outputs": [],
   "source": [
    "def distance(x0, x1, p=2):\n",
    "    return np.power((abs(x0 - x1)**p).sum(axis=1), (1/p))\n",
    "\n",
    "def my_knn(x_example, K=3, p=2):\n",
    "    x_example = np.tile(x_example, (x_train.shape[0], 1))\n",
    "    Z = pd.DataFrame(x_train)\n",
    "    Z['distance'] = distance(x_example, x_train, p=p)\n",
    "    Z['target'] = y_train\n",
    "    Z = Z.sort_values('distance')\n",
    "    chosen = Z.head(K)\n",
    "    return chosen['target'].mode().values[0], chosen"
   ]
  },
  {
   "cell_type": "markdown",
   "metadata": {},
   "source": [
    "Lines 1. and 2. implement the Minkowski distance, whose formula we wrote at the begining of this notebook.\n",
    "\n",
    "In order to vectorize the calulations (always a good practice), we repeat the input example feature vector $N$ times, where $N$ is the number of training set examples.\n",
    "We formulate a dataframe object.\n",
    "We append one column: `distance` to the frame, which is our element-wise evaluation of the distance.\n",
    "We also append the `y_train` data for easier comparison later.\n",
    "Then, it's sorting and picking the top $K$ rows from the new frame.\n",
    "Finally, we return the _mode_ of the solution.\n",
    "In case of a _regression_ problem, we would have gone for the mean.\n",
    "\n",
    "The function also return the selected `chosen` dataframe, but it does so only for demonstration and debugging.\n",
    "\n",
    "### Evaluation\n",
    "To evaluate our `my_knn` function we define another dataframe over or test data.\n",
    "Note that evaluating the KNN classifier over training data would lead to a trivial case in which the distance would be zero, and thus our classifier would never be wrong."
   ]
  },
  {
   "cell_type": "code",
   "execution_count": 7,
   "metadata": {
    "scrolled": false
   },
   "outputs": [
    {
     "data": {
      "text/html": [
       "<div>\n",
       "<style scoped>\n",
       "    .dataframe tbody tr th:only-of-type {\n",
       "        vertical-align: middle;\n",
       "    }\n",
       "\n",
       "    .dataframe tbody tr th {\n",
       "        vertical-align: top;\n",
       "    }\n",
       "\n",
       "    .dataframe thead th {\n",
       "        text-align: right;\n",
       "    }\n",
       "</style>\n",
       "<table border=\"1\" class=\"dataframe\">\n",
       "  <thead>\n",
       "    <tr style=\"text-align: right;\">\n",
       "      <th></th>\n",
       "      <th>0</th>\n",
       "      <th>1</th>\n",
       "      <th>2</th>\n",
       "      <th>3</th>\n",
       "      <th>original target</th>\n",
       "      <th>prediction with my_knn</th>\n",
       "      <th>prediction with sklearn</th>\n",
       "    </tr>\n",
       "  </thead>\n",
       "  <tbody>\n",
       "    <tr>\n",
       "      <th>0</th>\n",
       "      <td>5.8</td>\n",
       "      <td>2.8</td>\n",
       "      <td>5.1</td>\n",
       "      <td>2.4</td>\n",
       "      <td>2</td>\n",
       "      <td>2</td>\n",
       "      <td>2</td>\n",
       "    </tr>\n",
       "    <tr>\n",
       "      <th>1</th>\n",
       "      <td>6.0</td>\n",
       "      <td>2.2</td>\n",
       "      <td>4.0</td>\n",
       "      <td>1.0</td>\n",
       "      <td>1</td>\n",
       "      <td>1</td>\n",
       "      <td>1</td>\n",
       "    </tr>\n",
       "    <tr>\n",
       "      <th>2</th>\n",
       "      <td>5.5</td>\n",
       "      <td>4.2</td>\n",
       "      <td>1.4</td>\n",
       "      <td>0.2</td>\n",
       "      <td>0</td>\n",
       "      <td>0</td>\n",
       "      <td>0</td>\n",
       "    </tr>\n",
       "    <tr>\n",
       "      <th>3</th>\n",
       "      <td>7.3</td>\n",
       "      <td>2.9</td>\n",
       "      <td>6.3</td>\n",
       "      <td>1.8</td>\n",
       "      <td>2</td>\n",
       "      <td>2</td>\n",
       "      <td>2</td>\n",
       "    </tr>\n",
       "    <tr>\n",
       "      <th>4</th>\n",
       "      <td>5.0</td>\n",
       "      <td>3.4</td>\n",
       "      <td>1.5</td>\n",
       "      <td>0.2</td>\n",
       "      <td>0</td>\n",
       "      <td>0</td>\n",
       "      <td>0</td>\n",
       "    </tr>\n",
       "  </tbody>\n",
       "</table>\n",
       "</div>"
      ],
      "text/plain": [
       "     0    1    2    3  original target  prediction with my_knn  \\\n",
       "0  5.8  2.8  5.1  2.4                2                       2   \n",
       "1  6.0  2.2  4.0  1.0                1                       1   \n",
       "2  5.5  4.2  1.4  0.2                0                       0   \n",
       "3  7.3  2.9  6.3  1.8                2                       2   \n",
       "4  5.0  3.4  1.5  0.2                0                       0   \n",
       "\n",
       "   prediction with sklearn  \n",
       "0                        2  \n",
       "1                        1  \n",
       "2                        0  \n",
       "3                        2  \n",
       "4                        0  "
      ]
     },
     "execution_count": 7,
     "metadata": {},
     "output_type": "execute_result"
    }
   ],
   "source": [
    "neigh = KNeighborsClassifier(n_neighbors=3)\n",
    "y_pred = neigh.fit(x_train, y_train).predict(x_test) \n",
    "\n",
    "Z_test = pd.DataFrame(x_test)\n",
    "Z_test['original target'] = y_test\n",
    "Z_test['prediction with my_knn'] = Z_test.apply(lambda x: my_knn(x[[0, 1, 2, 3]], K=3)[0], axis=1)\n",
    "Z_test['prediction with sklearn'] = y_pred\n",
    "Z_test.head()"
   ]
  },
  {
   "cell_type": "markdown",
   "metadata": {
    "scrolled": false
   },
   "source": [
    "As a side note, we evaluate `my_knn` function using `.apply` method involving anonymous function.\n",
    "Therefore, `x[[0, 1, 2, 3]]` and `axis=1` are used to refer to the first four columns of each row in the dataframe,\n",
    "and the `[0]` appended to our function call comes from the `my_knn` definition where two outputs are returned."
   ]
  },
  {
   "cell_type": "code",
   "execution_count": 8,
   "metadata": {},
   "outputs": [],
   "source": [
    "assert (Z_test['prediction with my_knn'].to_numpy() == Z_test['prediction with sklearn'].to_numpy()).sum() == len(Z_test)"
   ]
  },
  {
   "cell_type": "markdown",
   "metadata": {},
   "source": [
    "It seems our implementation gives identical results to the one offered with scikit-learn. This is comforting.\n",
    "\n",
    "As a final step, let's take a look at what different values of $K$ do to the data."
   ]
  },
  {
   "cell_type": "markdown",
   "metadata": {},
   "source": [
    "## Playing with K"
   ]
  },
  {
   "cell_type": "code",
   "execution_count": 9,
   "metadata": {},
   "outputs": [
    {
     "data": {
      "text/html": [
       "<div>\n",
       "<style scoped>\n",
       "    .dataframe tbody tr th:only-of-type {\n",
       "        vertical-align: middle;\n",
       "    }\n",
       "\n",
       "    .dataframe tbody tr th {\n",
       "        vertical-align: top;\n",
       "    }\n",
       "\n",
       "    .dataframe thead th {\n",
       "        text-align: right;\n",
       "    }\n",
       "</style>\n",
       "<table border=\"1\" class=\"dataframe\">\n",
       "  <thead>\n",
       "    <tr style=\"text-align: right;\">\n",
       "      <th></th>\n",
       "      <th>0</th>\n",
       "      <th>1</th>\n",
       "      <th>2</th>\n",
       "      <th>3</th>\n",
       "      <th>original target</th>\n",
       "      <th>pred K=1</th>\n",
       "      <th>pred K=2</th>\n",
       "      <th>pred K=3</th>\n",
       "      <th>pred K=4</th>\n",
       "      <th>pred K=5</th>\n",
       "      <th>...</th>\n",
       "      <th>pred K=21</th>\n",
       "      <th>pred K=22</th>\n",
       "      <th>pred K=23</th>\n",
       "      <th>pred K=24</th>\n",
       "      <th>pred K=25</th>\n",
       "      <th>pred K=26</th>\n",
       "      <th>pred K=27</th>\n",
       "      <th>pred K=28</th>\n",
       "      <th>pred K=29</th>\n",
       "      <th>pred K=30</th>\n",
       "    </tr>\n",
       "  </thead>\n",
       "  <tbody>\n",
       "    <tr>\n",
       "      <th>0</th>\n",
       "      <td>5.8</td>\n",
       "      <td>2.8</td>\n",
       "      <td>5.1</td>\n",
       "      <td>2.4</td>\n",
       "      <td>2</td>\n",
       "      <td>2</td>\n",
       "      <td>2</td>\n",
       "      <td>2</td>\n",
       "      <td>2</td>\n",
       "      <td>2</td>\n",
       "      <td>...</td>\n",
       "      <td>2</td>\n",
       "      <td>2</td>\n",
       "      <td>2</td>\n",
       "      <td>2</td>\n",
       "      <td>2</td>\n",
       "      <td>2</td>\n",
       "      <td>2</td>\n",
       "      <td>2</td>\n",
       "      <td>2</td>\n",
       "      <td>2</td>\n",
       "    </tr>\n",
       "    <tr>\n",
       "      <th>1</th>\n",
       "      <td>6.0</td>\n",
       "      <td>2.2</td>\n",
       "      <td>4.0</td>\n",
       "      <td>1.0</td>\n",
       "      <td>1</td>\n",
       "      <td>1</td>\n",
       "      <td>1</td>\n",
       "      <td>1</td>\n",
       "      <td>1</td>\n",
       "      <td>1</td>\n",
       "      <td>...</td>\n",
       "      <td>1</td>\n",
       "      <td>1</td>\n",
       "      <td>1</td>\n",
       "      <td>1</td>\n",
       "      <td>1</td>\n",
       "      <td>1</td>\n",
       "      <td>1</td>\n",
       "      <td>1</td>\n",
       "      <td>1</td>\n",
       "      <td>1</td>\n",
       "    </tr>\n",
       "    <tr>\n",
       "      <th>2</th>\n",
       "      <td>5.5</td>\n",
       "      <td>4.2</td>\n",
       "      <td>1.4</td>\n",
       "      <td>0.2</td>\n",
       "      <td>0</td>\n",
       "      <td>0</td>\n",
       "      <td>0</td>\n",
       "      <td>0</td>\n",
       "      <td>0</td>\n",
       "      <td>0</td>\n",
       "      <td>...</td>\n",
       "      <td>0</td>\n",
       "      <td>0</td>\n",
       "      <td>0</td>\n",
       "      <td>0</td>\n",
       "      <td>0</td>\n",
       "      <td>0</td>\n",
       "      <td>0</td>\n",
       "      <td>0</td>\n",
       "      <td>0</td>\n",
       "      <td>0</td>\n",
       "    </tr>\n",
       "    <tr>\n",
       "      <th>3</th>\n",
       "      <td>7.3</td>\n",
       "      <td>2.9</td>\n",
       "      <td>6.3</td>\n",
       "      <td>1.8</td>\n",
       "      <td>2</td>\n",
       "      <td>2</td>\n",
       "      <td>2</td>\n",
       "      <td>2</td>\n",
       "      <td>2</td>\n",
       "      <td>2</td>\n",
       "      <td>...</td>\n",
       "      <td>2</td>\n",
       "      <td>2</td>\n",
       "      <td>2</td>\n",
       "      <td>2</td>\n",
       "      <td>2</td>\n",
       "      <td>2</td>\n",
       "      <td>2</td>\n",
       "      <td>2</td>\n",
       "      <td>2</td>\n",
       "      <td>2</td>\n",
       "    </tr>\n",
       "    <tr>\n",
       "      <th>4</th>\n",
       "      <td>5.0</td>\n",
       "      <td>3.4</td>\n",
       "      <td>1.5</td>\n",
       "      <td>0.2</td>\n",
       "      <td>0</td>\n",
       "      <td>0</td>\n",
       "      <td>0</td>\n",
       "      <td>0</td>\n",
       "      <td>0</td>\n",
       "      <td>0</td>\n",
       "      <td>...</td>\n",
       "      <td>0</td>\n",
       "      <td>0</td>\n",
       "      <td>0</td>\n",
       "      <td>0</td>\n",
       "      <td>0</td>\n",
       "      <td>0</td>\n",
       "      <td>0</td>\n",
       "      <td>0</td>\n",
       "      <td>0</td>\n",
       "      <td>0</td>\n",
       "    </tr>\n",
       "  </tbody>\n",
       "</table>\n",
       "<p>5 rows × 35 columns</p>\n",
       "</div>"
      ],
      "text/plain": [
       "     0    1    2    3  original target  pred K=1  pred K=2  pred K=3  \\\n",
       "0  5.8  2.8  5.1  2.4                2         2         2         2   \n",
       "1  6.0  2.2  4.0  1.0                1         1         1         1   \n",
       "2  5.5  4.2  1.4  0.2                0         0         0         0   \n",
       "3  7.3  2.9  6.3  1.8                2         2         2         2   \n",
       "4  5.0  3.4  1.5  0.2                0         0         0         0   \n",
       "\n",
       "   pred K=4  pred K=5  ...  pred K=21  pred K=22  pred K=23  pred K=24  \\\n",
       "0         2         2  ...          2          2          2          2   \n",
       "1         1         1  ...          1          1          1          1   \n",
       "2         0         0  ...          0          0          0          0   \n",
       "3         2         2  ...          2          2          2          2   \n",
       "4         0         0  ...          0          0          0          0   \n",
       "\n",
       "   pred K=25  pred K=26  pred K=27  pred K=28  pred K=29  pred K=30  \n",
       "0          2          2          2          2          2          2  \n",
       "1          1          1          1          1          1          1  \n",
       "2          0          0          0          0          0          0  \n",
       "3          2          2          2          2          2          2  \n",
       "4          0          0          0          0          0          0  \n",
       "\n",
       "[5 rows x 35 columns]"
      ]
     },
     "execution_count": 9,
     "metadata": {},
     "output_type": "execute_result"
    }
   ],
   "source": [
    "Kmax = 30\n",
    "Z_test = pd.DataFrame(x_test)\n",
    "Z_test['original target'] = y_test\n",
    "for k in range(Kmax):\n",
    "    Z_test['pred K={}'.format(k + 1)] = Z_test.apply(lambda x: my_knn(x[[0, 1, 2, 3]], K=(k + 1))[0], axis=1)\n",
    "    \n",
    "Z_test.head()"
   ]
  },
  {
   "cell_type": "code",
   "execution_count": 10,
   "metadata": {},
   "outputs": [],
   "source": [
    "correctly_classfied = np.zeros(Kmax)\n",
    "\n",
    "count = y_test.shape[0]\n",
    "for k in range(Kmax):\n",
    "    correctly_classfied[k] = (Z_test['original target'] == Z_test['pred K={}'.format(k + 1)]).sum()/count"
   ]
  },
  {
   "cell_type": "code",
   "execution_count": 11,
   "metadata": {},
   "outputs": [
    {
     "data": {
      "image/png": "[encoded data removed]",
      "text/plain": [
       "<Figure size 432x288 with 1 Axes>"
      ]
     },
     "metadata": {
      "needs_background": "light"
     },
     "output_type": "display_data"
    }
   ],
   "source": [
    "plt.plot(np.linspace(1, stop=30, num=30), 100*correctly_classfied, ':o')\n",
    "plt.xlabel('K')\n",
    "plt.ylabel('Correct classifications [%]')\n",
    "plt.ylim([85, 100])\n",
    "plt.grid()\n",
    "plt.show()"
   ]
  },
  {
   "cell_type": "markdown",
   "metadata": {},
   "source": [
    "The figure above shows the behavior of the KNN classifier for different values of $K$.\n",
    "We can see that the optimal value in this case is $K=9$.\n",
    "\n",
    "It is interesting to observe that lower values of $K$ do not perform optimally, as there is not enough number of \"voters\" to make the average (or mode) be strong enough to make a good decision.\n",
    "Conversly, having too many nerighbours stretches the geometrical region that contributes to making the decision, which is also not good.\n",
    "\n",
    "Finally, it is worth to mention that **odd** $K$'s perform better than **even** values.\n",
    "The reason behind it is the fact that with odd number of neighbours there is never a \"draw\" in making of the decision.\n",
    "When the number is even, it can happen that two values of equal distances are found, in which case the classifier would choose the the one that is sorted first to be the winner.\n",
    "Consequently, this approach does not guarantee that the selected output is the correct one, making the decision somewhat random."
   ]
  },
  {
   "cell_type": "markdown",
   "metadata": {},
   "source": [
    "## Conclusion\n",
    "In this notebook we have demonsrated the principle behind K-Nearest Neighbours algorithm for classification.\n",
    "\n",
    "The importan take-aways from this example:\n",
    "* K-NN works requiers the entire dataset to construct the model.\n",
    "* It is important to agree on the distance metrics. Common choice is the Euclidean distance (Minkowski with p=2).\n",
    "* For classification problems we select the _mode_.\n",
    "* For regression problem we select the _mean_.\n",
    "* The value of $K$ should neither be too large nor too small.\n",
    "* Odd number of $K$ is recommended."
   ]
  },
  {
   "cell_type": "code",
   "execution_count": null,
   "metadata": {},
   "outputs": [],
   "source": []
  }
 ],
 "metadata": {
  "kernelspec": {
   "display_name": "Python 3",
   "language": "python",
   "name": "python3"
  },
  "language_info": {
   "codemirror_mode": {
    "name": "ipython",
    "version": 3
   },
   "file_extension": ".py",
   "mimetype": "text/x-python",
   "name": "python",
   "nbconvert_exporter": "python",
   "pygments_lexer": "ipython3",
   "version": "3.6.9"
  }
 },
 "nbformat": 4,
 "nbformat_minor": 2
}
