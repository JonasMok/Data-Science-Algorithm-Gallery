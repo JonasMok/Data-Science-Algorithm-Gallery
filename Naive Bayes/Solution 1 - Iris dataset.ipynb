{
 "cells": [
  {
   "cell_type": "markdown",
   "metadata": {},
   "source": [
    "# Naive Bayes - solution on Iris dataset"
   ]
  },
  {
   "cell_type": "code",
   "execution_count": 1,
   "metadata": {},
   "outputs": [
    {
     "name": "stdout",
     "output_type": "stream",
     "text": [
      "Populating the interactive namespace from numpy and matplotlib\n"
     ]
    }
   ],
   "source": [
    "%pylab inline\n",
    "from sklearn import datasets\n",
    "from sklearn.naive_bayes import GaussianNB\n",
    "\n",
    "import pandas as pd\n",
    "\n",
    "iris = datasets.load_iris()"
   ]
  },
  {
   "cell_type": "markdown",
   "metadata": {},
   "source": [
    "## Scikit-Learn Implementation\n",
    "The code below presents the whole solution with a single line of code, as per **Scikit-Learn** [documentation](https://scikit-learn.org/stable/modules/naive_bayes.html#gaussian-naive-bayes)."
   ]
  },
  {
   "cell_type": "code",
   "execution_count": 2,
   "metadata": {},
   "outputs": [
    {
     "name": "stdout",
     "output_type": "stream",
     "text": [
      "Number of mislabeled points out of a total 150 points : 6\n"
     ]
    },
    {
     "data": {
      "image/png": "[encoded data removed]",
      "text/plain": [
       "<Figure size 432x288 with 1 Axes>"
      ]
     },
     "metadata": {
      "needs_background": "light"
     },
     "output_type": "display_data"
    }
   ],
   "source": [
    "gnb = GaussianNB()\n",
    "y_pred = gnb.fit(iris.data, iris.target).predict(iris.data)\n",
    "print(\"Number of mislabeled points out of a total %d points : %d\"\n",
    "      % (iris.data.shape[0],(iris.target != y_pred).sum()))\n",
    "\n",
    "fig, ax = plt.subplots()\n",
    "ax.plot(y_pred, 'o')\n",
    "ax.plot(iris.target, '.')\n",
    "ax.set_ylabel('Target')\n",
    "ax.set_xlabel('Example number')\n",
    "ax.set_yticks([0, 1, 2])\n",
    "ax.legend(['Predictions', 'Original data'], loc='lower right')\n",
    "ax.grid()\n",
    "plt.show()"
   ]
  },
  {
   "cell_type": "markdown",
   "metadata": {},
   "source": [
    "Comparing the predictions with the actual labels, we can easily spot the misclassified examples (six in total).\n",
    "\n",
    "## Dataset Analysis\n",
    "Before we dive into implementation of the Naive Bayes algorithm ourselves, let's first illustrate how the data looks. Most importantly, we will look into _distributions_ and probabilities associated with features and labels in the dataset."
   ]
  },
  {
   "cell_type": "code",
   "execution_count": 3,
   "metadata": {},
   "outputs": [],
   "source": [
    "data = pd.DataFrame(iris.data, columns=iris.feature_names)\n",
    "target = pd.DataFrame(iris.target, columns=['value'])\n",
    "target['label'] = target.apply(lambda x: iris['target_names'][x])"
   ]
  },
  {
   "cell_type": "code",
   "execution_count": 4,
   "metadata": {},
   "outputs": [
    {
     "data": {
      "text/html": [
       "<div>\n",
       "<style scoped>\n",
       "    .dataframe tbody tr th:only-of-type {\n",
       "        vertical-align: middle;\n",
       "    }\n",
       "\n",
       "    .dataframe tbody tr th {\n",
       "        vertical-align: top;\n",
       "    }\n",
       "\n",
       "    .dataframe thead th {\n",
       "        text-align: right;\n",
       "    }\n",
       "</style>\n",
       "<table border=\"1\" class=\"dataframe\">\n",
       "  <thead>\n",
       "    <tr style=\"text-align: right;\">\n",
       "      <th></th>\n",
       "      <th>sepal length (cm)</th>\n",
       "      <th>sepal width (cm)</th>\n",
       "      <th>petal length (cm)</th>\n",
       "      <th>petal width (cm)</th>\n",
       "    </tr>\n",
       "  </thead>\n",
       "  <tbody>\n",
       "    <tr>\n",
       "      <th>43</th>\n",
       "      <td>5.0</td>\n",
       "      <td>3.5</td>\n",
       "      <td>1.6</td>\n",
       "      <td>0.6</td>\n",
       "    </tr>\n",
       "    <tr>\n",
       "      <th>7</th>\n",
       "      <td>5.0</td>\n",
       "      <td>3.4</td>\n",
       "      <td>1.5</td>\n",
       "      <td>0.2</td>\n",
       "    </tr>\n",
       "    <tr>\n",
       "      <th>74</th>\n",
       "      <td>6.4</td>\n",
       "      <td>2.9</td>\n",
       "      <td>4.3</td>\n",
       "      <td>1.3</td>\n",
       "    </tr>\n",
       "  </tbody>\n",
       "</table>\n",
       "</div>"
      ],
      "text/plain": [
       "    sepal length (cm)  sepal width (cm)  petal length (cm)  petal width (cm)\n",
       "43                5.0               3.5                1.6               0.6\n",
       "7                 5.0               3.4                1.5               0.2\n",
       "74                6.4               2.9                4.3               1.3"
      ]
     },
     "execution_count": 4,
     "metadata": {},
     "output_type": "execute_result"
    }
   ],
   "source": [
    "data.sample(n=3)"
   ]
  },
  {
   "cell_type": "code",
   "execution_count": 5,
   "metadata": {},
   "outputs": [
    {
     "data": {
      "text/html": [
       "<div>\n",
       "<style scoped>\n",
       "    .dataframe tbody tr th:only-of-type {\n",
       "        vertical-align: middle;\n",
       "    }\n",
       "\n",
       "    .dataframe tbody tr th {\n",
       "        vertical-align: top;\n",
       "    }\n",
       "\n",
       "    .dataframe thead th {\n",
       "        text-align: right;\n",
       "    }\n",
       "</style>\n",
       "<table border=\"1\" class=\"dataframe\">\n",
       "  <thead>\n",
       "    <tr style=\"text-align: right;\">\n",
       "      <th></th>\n",
       "      <th>value</th>\n",
       "      <th>label</th>\n",
       "    </tr>\n",
       "  </thead>\n",
       "  <tbody>\n",
       "    <tr>\n",
       "      <th>109</th>\n",
       "      <td>2</td>\n",
       "      <td>virginica</td>\n",
       "    </tr>\n",
       "    <tr>\n",
       "      <th>79</th>\n",
       "      <td>1</td>\n",
       "      <td>versicolor</td>\n",
       "    </tr>\n",
       "    <tr>\n",
       "      <th>144</th>\n",
       "      <td>2</td>\n",
       "      <td>virginica</td>\n",
       "    </tr>\n",
       "  </tbody>\n",
       "</table>\n",
       "</div>"
      ],
      "text/plain": [
       "     value       label\n",
       "109      2   virginica\n",
       "79       1  versicolor\n",
       "144      2   virginica"
      ]
     },
     "execution_count": 5,
     "metadata": {},
     "output_type": "execute_result"
    }
   ],
   "source": [
    "target.sample(n=3)"
   ]
  },
  {
   "cell_type": "code",
   "execution_count": 6,
   "metadata": {},
   "outputs": [
    {
     "name": "stdout",
     "output_type": "stream",
     "text": [
      "Target labels:  ['setosa' 'versicolor' 'virginica']\n",
      "Target values:  [0 1 2]\n",
      "Features:  ['sepal length (cm)', 'sepal width (cm)', 'petal length (cm)', 'petal width (cm)']\n",
      "Number of examples:  150\n"
     ]
    }
   ],
   "source": [
    "print (\"Target labels: \", iris.target_names)\n",
    "print (\"Target values: \", np.unique(iris.target))\n",
    "print (\"Features: \", iris.feature_names)\n",
    "print (\"Number of examples: \", len(data))"
   ]
  },
  {
   "cell_type": "markdown",
   "metadata": {},
   "source": [
    "Here, we have encapsulated the dataset into _pandas dataframe_ objects, for easier manipulation. Most importatnly, we know that the dataset has 4 features, 3 labels (categories, enumerated as 0, 1 and 2) and 150 examples in total.\n",
    "\n",
    "Let's confrim that the distributon of the _likelihood_ functions is indeed _Gaussian_.\n",
    "Note that even if it was not, the Bayes formula **still holds**.\n",
    "We would however need to seek to define the distributions ourselves, and we would not be able to use the `GaussianNB` class available in the library.\n",
    "\n",
    "If the data is indeed distributed accoring the the Gaussian function, we should be able to see the correspondence between the _histograms_ of the data and the function itself.\n",
    "\n",
    "Let's recall the Gaussian function and implement it in the code:\n",
    "\n",
    "$$G(x; \\theta, \\sigma) = \\frac{1}{\\sqrt{2 \\pi \\sigma^2}} \\exp \\left( \\frac{(x - \\theta)^2}{2 \\sigma^2} \\right)$$\n",
    "\n",
    "where $\\theta$ is the mean and $\\sigma^2$ is variance."
   ]
  },
  {
   "cell_type": "code",
   "execution_count": 7,
   "metadata": {},
   "outputs": [],
   "source": [
    "def gaussian(x, theta, sigma, A=1.0):\n",
    "    return A/(np.sqrt(2*np.pi)*sigma)*np.exp(-0.5*(x - theta)**2 / (sigma**2))\n",
    "\n",
    "step = 0.001\n",
    "assert abs(np.sum(gaussian(np.arange(-100.0, 100.0, step=step), 1.0, 2.0))*step - 1) < 1e-6"
   ]
  },
  {
   "cell_type": "markdown",
   "metadata": {},
   "source": [
    "In the example above we basically assert that $\\int_{-\\infty}^\\infty G(x) \\text{d}x = 1$, taking rather distant limits and small $\\text{d}x$.\n",
    "\n",
    "Now, let's check if the _likelihood_ functions $p(x_i|y_j)$ can be approximated with Gaussian function."
   ]
  },
  {
   "cell_type": "code",
   "execution_count": 8,
   "metadata": {},
   "outputs": [
    {
     "data": {
      "image/png": "[encoded data removed]",
      "text/plain": [
       "<Figure size 864x576 with 24 Axes>"
      ]
     },
     "metadata": {
      "needs_background": "light"
     },
     "output_type": "display_data"
    }
   ],
   "source": [
    "fig, axs = plt.subplots(3, 4, figsize=(12, 8))\n",
    "fig.tight_layout(h_pad=4, w_pad=6)\n",
    "\n",
    "for y, label in zip(range(len(iris['target_names'])), iris['target_names']):\n",
    "    for x, feature in zip(range(len(iris['feature_names'])), iris['feature_names']):\n",
    "        variable = data[target['label'] == label][feature]\n",
    "        axs[y, x].hist(variable, rwidth=0.8)\n",
    "        ax2 = axs[y, x].twinx()\n",
    "        line = np.arange(0.0, 10.0, step=0.1)\n",
    "        ax2.plot(line, gaussian(line, variable.mean(), variable.std()), 'red', lw=3)\n",
    "        axs[y, x].grid()\n",
    "        axs[y, x].set_title('x: {} | y = \"{}\"'.format(x, label))\n",
    "        axs[y, x].set_ylim([0, 15])\n",
    "        axs[y, x].set_ylabel('count')\n",
    "        axs[y, x].set_xlabel(feature)\n",
    "        ax2.set_ylabel('Gaussian dist.')\n",
    "plt.show()"
   ]
  },
  {
   "cell_type": "markdown",
   "metadata": {},
   "source": [
    "Apparently they do.\n",
    "\n",
    "Note that we use `variable = data[target['label'] == label][feature]` command to first select all entries from the `data` that do belong to a specific category, which mathematically corresponds to $...|y_j$ (on condition that $y_j$),\n",
    "and then we select `[feature]` to be our `variable` thus making $(x_i|y_j)$ part.\n",
    "\n",
    "Having plotted the histogram, we can then identify our mean `\\theta` and variance `sigma^2` to adjust the position and shape of the Gaussian function and see it it fits at all.\n",
    "\n",
    "Consequently, for every feature `x_i` and every target `y_j`, all we need to construct a likelihood function is $\\theta$ and $\\sigma$.\n",
    "\n",
    "In fact, that's exactly what `GaussianNB` class does."
   ]
  },
  {
   "cell_type": "code",
   "execution_count": 9,
   "metadata": {},
   "outputs": [
    {
     "name": "stdout",
     "output_type": "stream",
     "text": [
      "Means:\n",
      "[[5.006 3.428 1.462 0.246]\n",
      " [5.936 2.77  4.26  1.326]\n",
      " [6.588 2.974 5.552 2.026]]\n",
      "\n",
      "Variances:\n",
      "[[0.121764 0.140816 0.029556 0.010884]\n",
      " [0.261104 0.0965   0.2164   0.038324]\n",
      " [0.396256 0.101924 0.298496 0.073924]]\n"
     ]
    }
   ],
   "source": [
    "print (\"Means:\")\n",
    "print (gnb.theta_)\n",
    "print (\"\")\n",
    "print (\"Variances:\")\n",
    "print (gnb.sigma_)"
   ]
  },
  {
   "cell_type": "markdown",
   "metadata": {},
   "source": [
    "## Manual implementation\n",
    "According to the Bayes theorem, we only need three elemements:\n",
    "* The likelihood functions $p(x|y)$, and we know they are Gaussian in this example.\n",
    "* The _prior_ probabilities $p(y)$, we can easily find.\n",
    "* The _evidence_ probabilities $p(x)$.\n",
    "\n",
    "In fact, $p(x)$ are not that needed if our intention is only to find the most likely label given a set of features.\n",
    "Unless we insist that our output number has a probabilistic interpretation, all we need is the first two, so we can reason from the following proprtion:\n",
    "\n",
    "$$p(y|x) \\propto p(x|y)p(y)$$"
   ]
  },
  {
   "cell_type": "markdown",
   "metadata": {},
   "source": [
    "### Constructing _priors_ "
   ]
  },
  {
   "cell_type": "code",
   "execution_count": 10,
   "metadata": {},
   "outputs": [
    {
     "name": "stdout",
     "output_type": "stream",
     "text": [
      "          label\n",
      "value          \n",
      "0      0.333333\n",
      "1      0.333333\n",
      "2      0.333333\n"
     ]
    }
   ],
   "source": [
    "prob_y = target.groupby(by='value').count()/len(target)\n",
    "print (prob_y)"
   ]
  },
  {
   "cell_type": "markdown",
   "metadata": {},
   "source": [
    "That's it.\n",
    "Counting the number of particular labels in the dataset and dividing it by the total number of labels defines the _unconditional_ probability of picking $y_j$ form the dataset (without looking at the features). In our case, they are all equal."
   ]
  },
  {
   "cell_type": "markdown",
   "metadata": {},
   "source": [
    "### Constructing _likelihoods_\n",
    "There are many ways to implement the likelihood functions. Here, we will make a few tricks with _pandas_.\n",
    "It will make our approach more \"verbose\" and _vectorized_ at the same time. (No explicit loops!)\n",
    "\n",
    "First, let's define our data frame of means `THETA`.\n",
    "It is a 4 by 3 array with descriptions."
   ]
  },
  {
   "cell_type": "code",
   "execution_count": 11,
   "metadata": {},
   "outputs": [
    {
     "name": "stdout",
     "output_type": "stream",
     "text": [
      "   sepal length (cm)  sepal width (cm)  petal length (cm)  petal width (cm)\n",
      "0              5.006             3.428              1.462             0.246\n",
      "1              5.936             2.770              4.260             1.326\n",
      "2              6.588             2.974              5.552             2.026\n"
     ]
    }
   ],
   "source": [
    "THETA = pd.DataFrame([data[target['value'] == x].mean() for x in target['value'].unique()])\n",
    "print (THETA)"
   ]
  },
  {
   "cell_type": "markdown",
   "metadata": {},
   "source": [
    "Similarly, we can define a similar data frame of variances `SIGMA`."
   ]
  },
  {
   "cell_type": "code",
   "execution_count": 12,
   "metadata": {},
   "outputs": [
    {
     "name": "stdout",
     "output_type": "stream",
     "text": [
      "   sepal length (cm)  sepal width (cm)  petal length (cm)  petal width (cm)\n",
      "0           0.124249          0.143690           0.030159          0.011106\n",
      "1           0.266433          0.098469           0.220816          0.039106\n",
      "2           0.404343          0.104004           0.304588          0.075433\n"
     ]
    }
   ],
   "source": [
    "SIGMA = pd.DataFrame([data[target['value'] == x].std() for x in target['value'].unique()])**2\n",
    "print (SIGMA)"
   ]
  },
  {
   "cell_type": "markdown",
   "metadata": {},
   "source": [
    "Now our challange is to \"merge\" the two dataframes in a way that element-wise produces output from a Gaussian function and does that for an array of new features.\n",
    "\n",
    "For that purpose we will define an auxiliary dataframe, which for every feature-label element would contain an array of three numbers: input feature $x_i$, $\\theta$ for $p(x_i|y_j)$ and $\\sigma$ for $p(x_i|y_j)$.\n",
    "This will allow us to use `.applymap` method later, to compute $G(x; \\theta, \\sigma^2)$ for every element in this array."
   ]
  },
  {
   "cell_type": "code",
   "execution_count": 13,
   "metadata": {},
   "outputs": [
    {
     "data": {
      "text/html": [
       "<div>\n",
       "<style scoped>\n",
       "    .dataframe tbody tr th:only-of-type {\n",
       "        vertical-align: middle;\n",
       "    }\n",
       "\n",
       "    .dataframe tbody tr th {\n",
       "        vertical-align: top;\n",
       "    }\n",
       "\n",
       "    .dataframe thead th {\n",
       "        text-align: right;\n",
       "    }\n",
       "</style>\n",
       "<table border=\"1\" class=\"dataframe\">\n",
       "  <thead>\n",
       "    <tr style=\"text-align: right;\">\n",
       "      <th></th>\n",
       "      <th>0</th>\n",
       "      <th>1</th>\n",
       "      <th>2</th>\n",
       "      <th>3</th>\n",
       "    </tr>\n",
       "  </thead>\n",
       "  <tbody>\n",
       "    <tr>\n",
       "      <th>0</th>\n",
       "      <td>3.207088</td>\n",
       "      <td>2.768999e-62</td>\n",
       "      <td>1.050091e-68</td>\n",
       "      <td>0.000000e+00</td>\n",
       "    </tr>\n",
       "    <tr>\n",
       "      <th>1</th>\n",
       "      <td>0.003129</td>\n",
       "      <td>2.793755e-70</td>\n",
       "      <td>3.241007e-23</td>\n",
       "      <td>0.000000e+00</td>\n",
       "    </tr>\n",
       "    <tr>\n",
       "      <th>2</th>\n",
       "      <td>0.000441</td>\n",
       "      <td>2.282707e-78</td>\n",
       "      <td>3.858231e-30</td>\n",
       "      <td>1.039649e-148</td>\n",
       "    </tr>\n",
       "  </tbody>\n",
       "</table>\n",
       "</div>"
      ],
      "text/plain": [
       "          0             1             2              3\n",
       "0  3.207088  2.768999e-62  1.050091e-68   0.000000e+00\n",
       "1  0.003129  2.793755e-70  3.241007e-23   0.000000e+00\n",
       "2  0.000441  2.282707e-78  3.858231e-30  1.039649e-148"
      ]
     },
     "execution_count": 13,
     "metadata": {},
     "output_type": "execute_result"
    }
   ],
   "source": [
    "X = np.array([5, 1, 2, 4])\n",
    "Z = pd.DataFrame(np.rec.fromarrays((np.tile(X, (3, 1)), THETA.values, SIGMA.values)).tolist())\n",
    "Z = Z.applymap(lambda x: gaussian(x[0], x[1], x[2]))\n",
    "Z"
   ]
  },
  {
   "cell_type": "markdown",
   "metadata": {},
   "source": [
    "The above table presents a product of the computation of $G(x; \\theta, \\sigma^2)$, essentially being our $p(x_i|y_j)$ for $i = \\{0, 1, 2, 3\\}$ and $j = \\{0, 1, 2\\}$.\n",
    "\n",
    "That was the most difficult part of our model.\n",
    "\n",
    "Next, we need to multiply the likelohoods of our features, as **Naive** Bayes recipe tells us to \n",
    "\n",
    "$$p(x|y_j) = \\prod_i p(x_i|y_j)$$\n",
    "\n",
    "(remember: the features are assumed to be independent).\n",
    "\n"
   ]
  },
  {
   "cell_type": "code",
   "execution_count": 14,
   "metadata": {},
   "outputs": [
    {
     "data": {
      "text/plain": [
       "0     0.000000e+00\n",
       "1     0.000000e+00\n",
       "2    4.041776e-259\n",
       "dtype: float64"
      ]
     },
     "execution_count": 14,
     "metadata": {},
     "output_type": "execute_result"
    }
   ],
   "source": [
    "Z.prod(axis=1)"
   ]
  },
  {
   "cell_type": "markdown",
   "metadata": {},
   "source": [
    "To get the output, we should multiply the above result with our priors $p(x|y_j)p(y_j)$. Evebn though those priors are all equal, let's be formal."
   ]
  },
  {
   "cell_type": "code",
   "execution_count": 15,
   "metadata": {},
   "outputs": [
    {
     "data": {
      "text/plain": [
       "array([0.0000000e+000, 0.0000000e+000, 1.3472586e-259])"
      ]
     },
     "execution_count": 15,
     "metadata": {},
     "output_type": "execute_result"
    }
   ],
   "source": [
    "(Z.prod(axis=1).to_numpy())*(prob_y.to_numpy())[0, :]"
   ]
  },
  {
   "cell_type": "markdown",
   "metadata": {},
   "source": [
    "Our solution is the **index** of the value that is the highest within the array."
   ]
  },
  {
   "cell_type": "code",
   "execution_count": 16,
   "metadata": {},
   "outputs": [
    {
     "name": "stdout",
     "output_type": "stream",
     "text": [
      "2\n"
     ]
    }
   ],
   "source": [
    "y_pred2 = np.argmax((Z.prod(axis=1).to_numpy())*(prob_y.to_numpy())[0, :])\n",
    "print (y_pred2)"
   ]
  },
  {
   "cell_type": "markdown",
   "metadata": {},
   "source": [
    "### The Model\n",
    "Let's now collect the lines and make them one function, that would accept an array of _feature values_ and output the candidate for a _label_."
   ]
  },
  {
   "cell_type": "code",
   "execution_count": 17,
   "metadata": {},
   "outputs": [],
   "source": [
    "def predict(X):\n",
    "    X = np.array(X)\n",
    "    Z = pd.DataFrame(np.rec.fromarrays((np.tile(X, (3, 1)), THETA.values, SIGMA.values**0.5)).tolist())\n",
    "    Z = Z.applymap(lambda x: gaussian(x[0], x[1], x[2]))\n",
    "    Z = (Z.prod(axis=1).to_numpy())*(prob_y.to_numpy())[0, :]\n",
    "    return np.argmax(Z)"
   ]
  },
  {
   "cell_type": "markdown",
   "metadata": {},
   "source": [
    "If our function is correct, it should render the same candidates as the original `GaussianNB` class, including the mistakes.\n",
    "To verify this, we can apply the `predict` function to the whole array of `data`, which are our original features."
   ]
  },
  {
   "cell_type": "code",
   "execution_count": 18,
   "metadata": {},
   "outputs": [
    {
     "name": "stdout",
     "output_type": "stream",
     "text": [
      "Yes! We have the same result.\n"
     ]
    }
   ],
   "source": [
    "y_pred2 = data.apply(lambda x: predict(x), axis=1).to_numpy()\n",
    "\n",
    "if (y_pred == y_pred2).sum() == len(data):\n",
    "    print (\"Yes! We have the same result.\")\n",
    "else:\n",
    "    print (\"@#$& it!\")"
   ]
  },
  {
   "cell_type": "markdown",
   "metadata": {},
   "source": [
    "## Conclusion\n",
    "In this notebook we have shown the principle behind Naive Bayes classifier. Using the scikit-learn implementation as reference and a popular Iris dataset, we have demonstrated how the theorem can be manually implemented, taking advantage of the Gaussian distribution of features.\n",
    "\n",
    "Important take-aways from this example:\n",
    "* The Naive Bayes approach works only if the features are independent.\n",
    "* The Naive Bayes algorithm does not require that the data is Gaussian distributed.\n",
    "* If it is , however, the Gaussian distribution is characterized with two numbers: mean and variance only.\n",
    "* Either way, all we need to do is to find likelihoods and priors.\n"
   ]
  },
  {
   "cell_type": "code",
   "execution_count": null,
   "metadata": {},
   "outputs": [],
   "source": []
  }
 ],
 "metadata": {
  "kernelspec": {
   "display_name": "Python 3",
   "language": "python",
   "name": "python3"
  },
  "language_info": {
   "codemirror_mode": {
    "name": "ipython",
    "version": 3
   },
   "file_extension": ".py",
   "mimetype": "text/x-python",
   "name": "python",
   "nbconvert_exporter": "python",
   "pygments_lexer": "ipython3",
   "version": "3.6.9"
  }
 },
 "nbformat": 4,
 "nbformat_minor": 2
}
