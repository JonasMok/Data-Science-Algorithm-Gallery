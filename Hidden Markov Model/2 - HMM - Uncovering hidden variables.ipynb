{
 "cells": [
  {
   "cell_type": "markdown",
   "metadata": {},
   "source": [
    "# Hidden Markov Model - Uncovering Hidden Variables\n",
    "Let's take our `HiddenMarkovChain` class to the next level and supplement it with more methods.\n",
    "The methods will help us to discover the most probable sequence of hidden variables behind the observation sequence.\n",
    "\n",
    "To save time, we have moved the previously derived classes to `definitions.py` and `base.py` files."
   ]
  },
  {
   "cell_type": "code",
   "execution_count": 1,
   "metadata": {},
   "outputs": [
    {
     "name": "stdout",
     "output_type": "stream",
     "text": [
      "Populating the interactive namespace from numpy and matplotlib\n"
     ]
    }
   ],
   "source": [
    "%pylab inline\n",
    "import pandas as pd\n",
    "import numpy as np\n",
    "from itertools import product\n",
    "\n",
    "from definitions import ProbabilityMatrix, ProbabilityVector\n",
    "from base import HiddenMarkovChain\n",
    "from chains import HiddenMarkovChain_Simulation"
   ]
  },
  {
   "cell_type": "markdown",
   "metadata": {},
   "source": [
    "## Expanding the class\n",
    "In the last notebook, we have defined $\\vec{\\alpha}$ to be the probability of partial observation of the sequence up to time $t$.\n",
    "\n",
    "$$\n",
    "\\vec{\\alpha}_t = [\\vec{\\alpha}_{t-1} \\cdot \\mathbf{A}] \\star (\\vec{b})^T(\\mathcal{O}_t)\n",
    "$$\n",
    "\n",
    "Now, let's define the \"opposite\" probability.\n",
    "Namely, the probability of observing the sequence from $T-1$ down to $t$.\n",
    "\n",
    "For $t = 0, 1, ..., T-1$ and $i = 0, 1, ..., N-1$, we define:\n",
    "\n",
    "$$\n",
    "\\beta_t(i) = p(\\mathcal{O}_{t+1}, \\mathcal{O}_{t+2}, ..., \\mathcal{O}_{T-1}|x_t = 1_i, \\lambda)\n",
    "$$\n",
    "\n",
    "As before, we can calulate $\\beta_t(i)$ recursively:\n",
    "\n",
    "$$\n",
    "\\beta_{T-1}(i) = 1 \\quad \\text{for} \\quad i = 0, 1, ..., N-1\n",
    "$$\n",
    "\n",
    "Then for $t \\ne T-1$\n",
    "\n",
    "$$\n",
    "\\beta_t(i) = \\sum_{j=0}^{N-1} a_{i,j}b_j(\\mathcal{O}_{t+1})\\beta_{t+1}(j)\n",
    "$$\n",
    "\n",
    "which in vectorized form, will be:\n",
    "\n",
    "$$\n",
    "\\vec{\\beta}_t = [\\mathbf{A} \\cdot \\vec{b}(\\mathcal{O}_{t+1})] \\star \\vec{\\beta}_{t+1}\n",
    "$$\n",
    "\n",
    "Finally, we also define a new quantity $\\gamma$ to indicate the state $q_i$ at time $t$, for which the probability (calculated forwards and backwards) is the maximum:\n",
    "\n",
    "$$\n",
    "\\gamma_t(i) = \\frac{\\alpha_t(i)\\beta_t(i)}{p(\\mathcal{O}|\\lambda)}\n",
    "$$\n",
    "\n",
    "Consequently, for any step $t = 0, 1, ..., T-1$, the state of the maximum likelihood can be found using:\n",
    "\n",
    "$$\n",
    "q_i^{(t)} = \\arg \\max_i (\\vec{\\alpha}_t \\star \\vec{\\beta}_t)\n",
    "$$"
   ]
  },
  {
   "cell_type": "code",
   "execution_count": 2,
   "metadata": {},
   "outputs": [],
   "source": [
    "class HiddenMarkovChain_Uncover(HiddenMarkovChain_Simulation):\n",
    "    def _alphas(self, observations: list) -> np.ndarray:\n",
    "        alphas = np.zeros((len(observations), len(self.states)))\n",
    "        alphas[0, :] = self.pi.values * self.E[observations[0]].T\n",
    "        for t in range(1, len(observations)):\n",
    "            alphas[t, :] = (alphas[t - 1, :].reshape(1, -1) @ self.T.values) \\\n",
    "                         * self.E[observations[t]].T\n",
    "        return alphas\n",
    "    \n",
    "    def _betas(self, observations: list) -> np.ndarray:\n",
    "        betas = np.zeros((len(observations), len(self.states)))\n",
    "        betas[-1, :] = 1\n",
    "        for t in range(len(observations) - 2, -1, -1):\n",
    "            betas[t, :] = (self.T.values @ (self.E[observations[t + 1]] \\\n",
    "                        * betas[t + 1, :].reshape(-1, 1))).reshape(1, -1)\n",
    "        return betas\n",
    "    \n",
    "    def uncover(self, observations: list) -> list:\n",
    "        alphas = self._alphas(observations)\n",
    "        betas = self._betas(observations)\n",
    "        maxargs = (alphas * betas).argmax(axis=1)\n",
    "        return list(map(lambda x: self.states[x], maxargs))"
   ]
  },
  {
   "cell_type": "markdown",
   "metadata": {},
   "source": [
    "## Validation\n",
    "\n",
    "To validate, let's generate some observable sequence $\\mathcal{O}$.\n",
    "For that, we can use our model's `.run` method.\n",
    "Then, we will use the `.uncover` method to find the most likely latent variable sequence."
   ]
  },
  {
   "cell_type": "code",
   "execution_count": 3,
   "metadata": {},
   "outputs": [
    {
     "name": "stdout",
     "output_type": "stream",
     "text": [
      "Observed sequence:\n",
      "['3L', '2M', '1S', '3L', '3L', '3L']\n",
      "Latent sequence:\n",
      "['1H', '2C', '1H', '1H', '2C', '1H']\n"
     ]
    }
   ],
   "source": [
    "np.random.seed(42)\n",
    "\n",
    "a1 = ProbabilityVector({'1H': 0.7, '2C': 0.3})                                                                \n",
    "a2 = ProbabilityVector({'1H': 0.4, '2C': 0.6})                                                                \n",
    "                                                                                                               \n",
    "b1 = ProbabilityVector({'1S': 0.1, '2M': 0.4, '3L': 0.5})                                                     \n",
    "b2 = ProbabilityVector({'1S': 0.7, '2M': 0.2, '3L': 0.1})                                                     \n",
    "                                                                                                                \n",
    "A = ProbabilityMatrix({'1H': a1, '2C': a2})                                                                   \n",
    "B = ProbabilityMatrix({'1H': b1, '2C': b2})                                                                   \n",
    "pi = ProbabilityVector({'1H': 0.6, '2C': 0.4})\n",
    "\n",
    "hmc = HiddenMarkovChain_Uncover(A, B, pi)\n",
    "\n",
    "observed_sequence, latent_sequence = hmc.run(5)\n",
    "\n",
    "print(\"Observed sequence:\")\n",
    "print(observed_sequence)\n",
    "print(\"Latent sequence:\")\n",
    "print(latent_sequence)"
   ]
  },
  {
   "cell_type": "code",
   "execution_count": 4,
   "metadata": {},
   "outputs": [
    {
     "name": "stdout",
     "output_type": "stream",
     "text": [
      "['1H', '1H', '2C', '1H', '1H', '1H']\n"
     ]
    }
   ],
   "source": [
    "uncovered_sequence = hmc.uncover(observed_sequence)\n",
    "print(uncovered_sequence)"
   ]
  },
  {
   "cell_type": "markdown",
   "metadata": {},
   "source": [
    "As we can see, the most likely latent state chain (according to our algorithm) is not the same as the one that actually caused the observations.\n",
    "\n",
    "However, this is to be expected.\n",
    "Afterall, each observation sequence can only be manifested with certain probability, based on the latent sequence.\n",
    "The code below, evaluates the likelihood of different latent sequences resulting in our observation sequence."
   ]
  },
  {
   "cell_type": "code",
   "execution_count": 5,
   "metadata": {},
   "outputs": [],
   "source": [
    "all_possible_states = {'1H', '2C'}\n",
    "chain_length = 6  # any int > 0\n",
    "all_states_chains = list(product(*(all_possible_states,) * chain_length))\n",
    "\n",
    "df = pd.DataFrame(all_states_chains)\n",
    "dfp = pd.DataFrame()\n",
    "\n",
    "for i in range(chain_length):\n",
    "    dfp['p' + str(i)] = df.apply(lambda x: hmc.E.df.loc[x[i], observed_sequence[i]], axis=1)\n",
    "\n",
    "scores = dfp.sum(axis=1).sort_values(ascending=False)\n",
    "df = df.iloc[scores.index]\n",
    "df['score'] = scores"
   ]
  },
  {
   "cell_type": "code",
   "execution_count": 6,
   "metadata": {},
   "outputs": [
    {
     "data": {
      "text/html": [
       "<div>\n",
       "<style scoped>\n",
       "    .dataframe tbody tr th:only-of-type {\n",
       "        vertical-align: middle;\n",
       "    }\n",
       "\n",
       "    .dataframe tbody tr th {\n",
       "        vertical-align: top;\n",
       "    }\n",
       "\n",
       "    .dataframe thead th {\n",
       "        text-align: right;\n",
       "    }\n",
       "</style>\n",
       "<table border=\"1\" class=\"dataframe\">\n",
       "  <thead>\n",
       "    <tr style=\"text-align: right;\">\n",
       "      <th></th>\n",
       "      <th>index</th>\n",
       "      <th>0</th>\n",
       "      <th>1</th>\n",
       "      <th>2</th>\n",
       "      <th>3</th>\n",
       "      <th>4</th>\n",
       "      <th>5</th>\n",
       "      <th>score</th>\n",
       "    </tr>\n",
       "  </thead>\n",
       "  <tbody>\n",
       "    <tr>\n",
       "      <th>0</th>\n",
       "      <td>55</td>\n",
       "      <td>1H</td>\n",
       "      <td>1H</td>\n",
       "      <td>2C</td>\n",
       "      <td>1H</td>\n",
       "      <td>1H</td>\n",
       "      <td>1H</td>\n",
       "      <td>3.1</td>\n",
       "    </tr>\n",
       "    <tr>\n",
       "      <th>1</th>\n",
       "      <td>39</td>\n",
       "      <td>1H</td>\n",
       "      <td>2C</td>\n",
       "      <td>2C</td>\n",
       "      <td>1H</td>\n",
       "      <td>1H</td>\n",
       "      <td>1H</td>\n",
       "      <td>2.9</td>\n",
       "    </tr>\n",
       "    <tr>\n",
       "      <th>2</th>\n",
       "      <td>23</td>\n",
       "      <td>2C</td>\n",
       "      <td>1H</td>\n",
       "      <td>2C</td>\n",
       "      <td>1H</td>\n",
       "      <td>1H</td>\n",
       "      <td>1H</td>\n",
       "      <td>2.7</td>\n",
       "    </tr>\n",
       "    <tr>\n",
       "      <th>3</th>\n",
       "      <td>53</td>\n",
       "      <td>1H</td>\n",
       "      <td>1H</td>\n",
       "      <td>2C</td>\n",
       "      <td>1H</td>\n",
       "      <td>2C</td>\n",
       "      <td>1H</td>\n",
       "      <td>2.7</td>\n",
       "    </tr>\n",
       "    <tr>\n",
       "      <th>4</th>\n",
       "      <td>54</td>\n",
       "      <td>1H</td>\n",
       "      <td>1H</td>\n",
       "      <td>2C</td>\n",
       "      <td>1H</td>\n",
       "      <td>1H</td>\n",
       "      <td>2C</td>\n",
       "      <td>2.7</td>\n",
       "    </tr>\n",
       "    <tr>\n",
       "      <th>5</th>\n",
       "      <td>51</td>\n",
       "      <td>1H</td>\n",
       "      <td>1H</td>\n",
       "      <td>2C</td>\n",
       "      <td>2C</td>\n",
       "      <td>1H</td>\n",
       "      <td>1H</td>\n",
       "      <td>2.7</td>\n",
       "    </tr>\n",
       "    <tr>\n",
       "      <th>6</th>\n",
       "      <td>63</td>\n",
       "      <td>1H</td>\n",
       "      <td>1H</td>\n",
       "      <td>1H</td>\n",
       "      <td>1H</td>\n",
       "      <td>1H</td>\n",
       "      <td>1H</td>\n",
       "      <td>2.5</td>\n",
       "    </tr>\n",
       "    <tr>\n",
       "      <th>7</th>\n",
       "      <td>7</td>\n",
       "      <td>2C</td>\n",
       "      <td>2C</td>\n",
       "      <td>2C</td>\n",
       "      <td>1H</td>\n",
       "      <td>1H</td>\n",
       "      <td>1H</td>\n",
       "      <td>2.5</td>\n",
       "    </tr>\n",
       "    <tr>\n",
       "      <th>8</th>\n",
       "      <td>37</td>\n",
       "      <td>1H</td>\n",
       "      <td>2C</td>\n",
       "      <td>2C</td>\n",
       "      <td>1H</td>\n",
       "      <td>2C</td>\n",
       "      <td>1H</td>\n",
       "      <td>2.5</td>\n",
       "    </tr>\n",
       "    <tr>\n",
       "      <th>9</th>\n",
       "      <td>35</td>\n",
       "      <td>1H</td>\n",
       "      <td>2C</td>\n",
       "      <td>2C</td>\n",
       "      <td>2C</td>\n",
       "      <td>1H</td>\n",
       "      <td>1H</td>\n",
       "      <td>2.5</td>\n",
       "    </tr>\n",
       "  </tbody>\n",
       "</table>\n",
       "</div>"
      ],
      "text/plain": [
       "   index   0   1   2   3   4   5  score\n",
       "0     55  1H  1H  2C  1H  1H  1H    3.1\n",
       "1     39  1H  2C  2C  1H  1H  1H    2.9\n",
       "2     23  2C  1H  2C  1H  1H  1H    2.7\n",
       "3     53  1H  1H  2C  1H  2C  1H    2.7\n",
       "4     54  1H  1H  2C  1H  1H  2C    2.7\n",
       "5     51  1H  1H  2C  2C  1H  1H    2.7\n",
       "6     63  1H  1H  1H  1H  1H  1H    2.5\n",
       "7      7  2C  2C  2C  1H  1H  1H    2.5\n",
       "8     37  1H  2C  2C  1H  2C  1H    2.5\n",
       "9     35  1H  2C  2C  2C  1H  1H    2.5"
      ]
     },
     "execution_count": 6,
     "metadata": {},
     "output_type": "execute_result"
    }
   ],
   "source": [
    "df.head(10).reset_index()"
   ]
  },
  {
   "cell_type": "markdown",
   "metadata": {},
   "source": [
    "The result above shows the sorted table of the latent sequences, given the observation sequence.\n",
    "The actual latent sequence (the one that caused the observations) places itself on the 35th position (we counted index from zero)."
   ]
  },
  {
   "cell_type": "code",
   "execution_count": 7,
   "metadata": {},
   "outputs": [
    {
     "data": {
      "text/html": [
       "<div>\n",
       "<style scoped>\n",
       "    .dataframe tbody tr th:only-of-type {\n",
       "        vertical-align: middle;\n",
       "    }\n",
       "\n",
       "    .dataframe tbody tr th {\n",
       "        vertical-align: top;\n",
       "    }\n",
       "\n",
       "    .dataframe thead th {\n",
       "        text-align: right;\n",
       "    }\n",
       "</style>\n",
       "<table border=\"1\" class=\"dataframe\">\n",
       "  <thead>\n",
       "    <tr style=\"text-align: right;\">\n",
       "      <th></th>\n",
       "      <th>index</th>\n",
       "      <th>0</th>\n",
       "      <th>1</th>\n",
       "      <th>2</th>\n",
       "      <th>3</th>\n",
       "      <th>4</th>\n",
       "      <th>5</th>\n",
       "      <th>score</th>\n",
       "    </tr>\n",
       "  </thead>\n",
       "  <tbody>\n",
       "    <tr>\n",
       "      <th>34</th>\n",
       "      <td>45</td>\n",
       "      <td>1H</td>\n",
       "      <td>2C</td>\n",
       "      <td>1H</td>\n",
       "      <td>1H</td>\n",
       "      <td>2C</td>\n",
       "      <td>1H</td>\n",
       "      <td>1.9</td>\n",
       "    </tr>\n",
       "  </tbody>\n",
       "</table>\n",
       "</div>"
      ],
      "text/plain": [
       "    index   0   1   2   3   4   5  score\n",
       "34     45  1H  2C  1H  1H  2C  1H    1.9"
      ]
     },
     "execution_count": 7,
     "metadata": {},
     "output_type": "execute_result"
    }
   ],
   "source": [
    "dfc = df.copy().reset_index()\n",
    "for i in range(chain_length):\n",
    "    dfc = dfc[dfc[i] == latent_sequence[i]]\n",
    "    \n",
    "dfc"
   ]
  },
  {
   "cell_type": "markdown",
   "metadata": {},
   "source": [
    "## Conclusion\n",
    "In this notebook, we have shown the implementation of how to find the most likely hidden (latent) state sequence given the observation sequence."
   ]
  }
 ],
 "metadata": {
  "kernelspec": {
   "display_name": "Python 3",
   "language": "python",
   "name": "python3"
  },
  "language_info": {
   "codemirror_mode": {
    "name": "ipython",
    "version": 3
   },
   "file_extension": ".py",
   "mimetype": "text/x-python",
   "name": "python",
   "nbconvert_exporter": "python",
   "pygments_lexer": "ipython3",
   "version": "3.6.9"
  }
 },
 "nbformat": 4,
 "nbformat_minor": 4
}
