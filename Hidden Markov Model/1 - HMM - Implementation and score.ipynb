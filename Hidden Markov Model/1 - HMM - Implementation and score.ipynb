{
 "cells": [
  {
   "cell_type": "markdown",
   "metadata": {},
   "source": [
    "# Hidden Markov Model - Implementation and finding score\n",
    "\n",
    "## Notation\n",
    "* $T$ - length of the observation sequence\n",
    "* $N$ - number of (hidden) states\n",
    "* $M$ - number of observables\n",
    "* $Q = \\{q_0, q_1, ..., q_{N-1}\\}$ - hidden states ($|Q| = N$).\n",
    "* $V = \\{0, 1, ..., M-1\\}$ - set of possible observations ($|V| = M$).\n",
    "* $A$ - state transition probabilities\n",
    "* $B$ - observation probability matrix\n",
    "* $\\pi$ - initial state probability distribution\n",
    "* $\\mathcal{O} = (\\mathcal{O}_0, \\mathcal{O}_1, ..., \\mathcal{O}_{T-1})$ - observation sequence\n",
    "* $X = (x_0, x_1, ..., x_{T-1})$ where $x_t \\in Q$ - hidden state sequence\n",
    "\n",
    "Having that set defined, we can calculate the probability of any state and observation using the matrices:\n",
    "* $A = \\{a_{i,j}\\}$ - being an $N \\times N$ transition matrix.\n",
    "* $B = \\{b_{k,j}\\}$ - being an $M \\times N$ 'emission' matrix.\n",
    "\n",
    "The probabilities associated with transition and observation (emission) are:\n",
    "* $a_{i,j} = p(q_j^{(t + 1)} | q_i^{(t)})$,\n",
    "* $b_j(k) = p(\\mathcal{O}_k^{(t)} | q_j^{(t)})$.\n",
    "\n",
    "The model is therefore defined as a collection: $\\lambda = (A, B, \\pi)$."
   ]
  },
  {
   "cell_type": "markdown",
   "metadata": {},
   "source": [
    "## Fundamental definitions\n",
    "Since HMM is based on probability vectors and matrices, let's first define objects that will represent the fundamental concepts.\n",
    "In order to be useful, the objects must reflect on certain properties.\n",
    "For example, all elements of a probability vector, must be numbers $0 \\le x \\le 1$ and they must sum up to 1.\n",
    "Therefore, let's design the objects the way they will inherently safeguard the mathematical properties.\n",
    "\n",
    "### Probability Vector\n",
    "We will use the *Probability Vector* to store the infomation of both hidden states and the observables.\n",
    "Referring to our notation, we will represent probabilities associated with $\\mathcal{O}$ and $X$."
   ]
  },
  {
   "cell_type": "code",
   "execution_count": 1,
   "metadata": {},
   "outputs": [
    {
     "name": "stdout",
     "output_type": "stream",
     "text": [
      "Using matplotlib backend: TkAgg\n",
      "Populating the interactive namespace from numpy and matplotlib\n"
     ]
    }
   ],
   "source": [
    "%pylab\n",
    "import numpy as np\n",
    "import pandas as pd"
   ]
  },
  {
   "cell_type": "code",
   "execution_count": 2,
   "metadata": {},
   "outputs": [],
   "source": [
    "class ProbabilityVector:\n",
    "    def __init__(self, probabilities: dict):\n",
    "        states = probabilities.keys()\n",
    "        probs  = probabilities.values()\n",
    "        \n",
    "        assert len(states) == len(probs), \"The probabilities must match the states.\"\n",
    "        assert len(states) == len(set(states)), \"The states must be unique.\"\n",
    "        #assert abs(sum(probs) - 1.0) < 1e-12, \"Probabilities must sum up to 1.\"\n",
    "        assert len(list(filter(lambda x: 0 <= x <= 1, probs))) == len(probs), \\\n",
    "            \"Probabilities must be real numbers from [0, 1] interval.\"\n",
    "        \n",
    "        self.states = sorted(probabilities)\n",
    "        self.values = np.array(list(map(lambda x: probabilities[x], self.states))).reshape(1, -1)\n",
    "        \n",
    "    @classmethod\n",
    "    def initialize(cls, states: list):\n",
    "        size = len(states)\n",
    "        rand = np.random.rand(size) / (size**2) + 1 / size\n",
    "        rand /= rand.sum(axis=0)\n",
    "        return cls(dict(zip(states, rand)))\n",
    "    \n",
    "    @classmethod\n",
    "    def from_numpy(cls, array: np.ndarray, state: list):\n",
    "        return cls(dict(zip(states, list(array))))\n",
    "\n",
    "    @property\n",
    "    def dict(self):\n",
    "        return {k:v for k, v in zip(self.states, list(self.values.flatten()))}\n",
    "\n",
    "    @property\n",
    "    def df(self):\n",
    "        return pd.DataFrame(self.values, columns=self.states, index=['probability'])\n",
    "\n",
    "    def __repr__(self):\n",
    "        return \"P({}) = {}.\".format(self.states, self.values)\n",
    "\n",
    "    def __eq__(self, other):\n",
    "        if not isinstance(other, ProbabilityVector):\n",
    "            raise NotImplementedError\n",
    "        if (self.states == other.states) and (self.values == other.values).all():\n",
    "            return True\n",
    "        return False\n",
    "\n",
    "    def __getitem__(self, state: str) -> float:\n",
    "        if state not in self.states:\n",
    "            raise ValueError(\"Requesting unknown probability state from vector.\")\n",
    "        index = self.states.index(state)\n",
    "        return float(self.values[0, index])\n",
    "\n",
    "    def __mul__(self, other) -> np.ndarray:\n",
    "        if isinstance(other, ProbabilityVector):\n",
    "            return self.values * other.values\n",
    "        elif isinstance(other, (int, float)):\n",
    "            return self.values * other\n",
    "        else:\n",
    "            NotImplementedError\n",
    "\n",
    "    def __rmul__(self, other) -> np.ndarray:\n",
    "        return self.__mul__(other)\n",
    "\n",
    "    def __matmul__(self, other) -> np.ndarray:\n",
    "        if isinstance(other, ProbabilityMatrix):\n",
    "            return self.values @ other.values\n",
    "\n",
    "    def __truediv__(self, number) -> np.ndarray:\n",
    "        if not isinstance(number, (int, float)):\n",
    "            raise NotImplementedError\n",
    "        x = self.values\n",
    "        return x / number if number != 0 else x / (number + 1e-12)\n",
    "\n",
    "    def argmax(self):\n",
    "        index = self.values.argmax()\n",
    "        return self.states[index]"
   ]
  },
  {
   "cell_type": "markdown",
   "metadata": {},
   "source": [
    "The most natural way to initialize of this object is to use a _dictionary_ as it associates values with unique keys.\n",
    "Dictionaries, unfortunately, do not provide any assertion mechanisms that put any constraints on the values.\n",
    "Consequently, we build our custom _ProbabilityVector_ object to ensure that our values behave correctly.\n",
    "Most importantly, we enforce the following:\n",
    "* The number of values must equal the number of the keys (names of our states). Although this is not a problem when initializing the object from a dictionary, we will use other ways later.\n",
    "* All names of the states must be unique (the same arguments apply).\n",
    "* The probabilities must sum up to 1 (up to the certain tolerance).\n",
    "* All probabilities must be $0 \\le p \\le 1$.\n",
    "\n",
    "Having ensured that, we also provide two alternative ways to instantiate ProbabilityVector objects (decoreated with `@classmethod`).\n",
    "1. We instantiate the objects randomly - it will be useful when training.\n",
    "2. We use ready made numpy arrays and use values therein, and only providing the names for the states.\n",
    "\n",
    "For convenience and debugging, we provide two additional methods for requesitng the values.\n",
    "Decorated with `@property`, they return the content of the PV object as a dictionary or a pandas dataframe.\n",
    "\n",
    "The PV objects need to satisfy the following mathematical operations (for the purpose of constructing of HMM):\n",
    "1. comparison (`__eq__`) - to know if any two PV's are equal,\n",
    "2. element-wise multiplication of two PV's or multiplication with a scalar (`__mul__` and `__rmul__`).\n",
    "3. dot product (`__matmul__`) - to perform vector-matrix multiplication\n",
    "4. division by number (`__truediv__`),\n",
    "5. `argmax` to find for which state the probability is the highest.\n",
    "6. `__getitem__` to enable selecting value by the key.\n",
    "\n",
    "Note that when e.g. multiplying a PV with a scalar, the returned structure is a resulting numpy array, not another PV. This is because multiplying by anything other than 1 would violate the integrity of the PV itself.\n",
    "\n",
    "Internally, the values are stored as numpy array of size $(1 \\times N)$.\n",
    "\n",
    "$$\n",
    "p = [p_0, p_1, ..., p_{N-1}]\n",
    "$$\n",
    "\n",
    "#### Example"
   ]
  },
  {
   "cell_type": "code",
   "execution_count": 3,
   "metadata": {},
   "outputs": [
    {
     "name": "stdout",
     "output_type": "stream",
     "text": [
      "             rain  sun\n",
      "probability   0.7  0.3\n",
      "             rain  sun\n",
      "probability   0.9  0.1\n"
     ]
    }
   ],
   "source": [
    "a1 = ProbabilityVector({'rain': 0.7, 'sun': 0.3})\n",
    "print(a1.df)\n",
    "\n",
    "a2 = ProbabilityVector({'sun': 0.1, 'rain': 0.9})\n",
    "print(a2.df)"
   ]
  },
  {
   "cell_type": "code",
   "execution_count": 4,
   "metadata": {},
   "outputs": [
    {
     "name": "stdout",
     "output_type": "stream",
     "text": [
      "P(['rain', 'sun']) = [[0.7 0.3]].\n",
      "Comparison: False\n",
      "Element-wise multiplication: [[0.63 0.03]]\n",
      "Argmax: rain\n",
      "Getitem: 0.7\n"
     ]
    }
   ],
   "source": [
    "print(a1)\n",
    "print(\"Comparison:\", a1 == a2)\n",
    "print(\"Element-wise multiplication:\", a1 * a2)\n",
    "print(\"Argmax:\", a1.argmax())\n",
    "print(\"Getitem:\", a1['rain'])"
   ]
  },
  {
   "cell_type": "markdown",
   "metadata": {},
   "source": [
    "### Probability Martix\n",
    "Another object is a *Probability Matrix*, which is a core part of the HMM definition.\n",
    "Formally, the $A$ and $B$ matrices must be *row-stochastic*, meaning that values of every row must sum up to 1.\n",
    "We can, therefore, define our PM by stacking several PV's, which we have constructed in a way to guarantee this constraint."
   ]
  },
  {
   "cell_type": "code",
   "execution_count": 5,
   "metadata": {},
   "outputs": [],
   "source": [
    "class ProbabilityMatrix:\n",
    "    def __init__(self, prob_vec_dict: dict):\n",
    "        \n",
    "        assert len(prob_vec_dict) > 1, \\\n",
    "            \"The numebr of input probability vector must be greater than one.\"\n",
    "        assert len(set([str(x.states) for x in prob_vec_dict.values()])) == 1, \\\n",
    "            \"All internal states of all the vectors must be indentical.\"\n",
    "        assert len(prob_vec_dict.keys()) == len(set(prob_vec_dict.keys())), \\\n",
    "            \"All observables must be unique.\"\n",
    "\n",
    "        self.states      = sorted(prob_vec_dict)\n",
    "        self.observables = prob_vec_dict[self.states[0]].states\n",
    "        self.values      = np.stack([prob_vec_dict[x].values for x in self.states]).squeeze() \n",
    "\n",
    "    @classmethod\n",
    "    def initialize(cls, states: list, observables: list):\n",
    "        size = len(states)\n",
    "        rand = np.random.rand(size, len(observables)) / (size**2) + 1 / size\n",
    "        rand /= rand.sum(axis=1).reshape(-1, 1)\n",
    "        aggr = [dict(zip(observables, rand[i, :])) for i in range(len(states))]\n",
    "        pvec = [ProbabilityVector(x) for x in aggr]\n",
    "        return cls(dict(zip(states, pvec)))\n",
    "\n",
    "    @classmethod\n",
    "    def from_numpy(cls, array: np.ndarray, states: list, observables: list):\n",
    "        p_vecs = [ProbabilityVector(dict(zip(observables, x))) for x in array]\n",
    "        return cls(dict(zip(states, p_vecs)))\n",
    "\n",
    "    @property\n",
    "    def dict(self):\n",
    "        return self.df.to_dict()\n",
    "\n",
    "    @property\n",
    "    def df(self):\n",
    "        return pd.DataFrame(self.values, columns=self.observables, index=self.states)\n",
    "\n",
    "    def __repr__(self):\n",
    "        return \"PM {} states: {} -> obs: {}.\".format(\n",
    "            self.values.shape, self.states, self.observables)\n",
    "\n",
    "    def __getitem__(self, observable: str) -> np.ndarray:\n",
    "        if observable not in self.observables:\n",
    "            raise ValueError(\"Requesting unknown probability observable from the matrix.\")\n",
    "        index = self.observables.index(observable)\n",
    "        return self.values[:, index].reshape(-1, 1)"
   ]
  },
  {
   "cell_type": "markdown",
   "metadata": {},
   "source": [
    "Here, the way we instantiate PM's is by supplying a dictionary of PV's to the constructor of the class.\n",
    "By doing this, we not only ensure that every row of PM is stochastic, but also supply the names for every **observable**.\n",
    "\n",
    "Our PM can, therefore, give an array of coefficients for any observable.|\n",
    "\n",
    "Mathematically, the PM is a $(M \\times N)$ matrix:\n",
    "\n",
    "$$\n",
    "M = \n",
    " \\begin{bmatrix}\n",
    "  c_{1,1} & c_{1,2} & \\cdots & c_{1,n} \\\\\n",
    "  c_{2,1} & c_{2,2} & \\cdots & c_{2,n} \\\\\n",
    "  \\vdots  & \\vdots  & \\ddots & \\vdots  \\\\\n",
    "  c_{m,1} & c_{m,2} & \\cdots & c_{m,n} \n",
    " \\end{bmatrix}$$\n",
    " \n",
    " The other methods are implemented in similar way to PV.\n",
    " \n",
    " #### Example"
   ]
  },
  {
   "cell_type": "code",
   "execution_count": 6,
   "metadata": {},
   "outputs": [
    {
     "name": "stdout",
     "output_type": "stream",
     "text": [
      "PM (2, 2) states: ['cold', 'hot'] -> obs: ['rain', 'sun'].\n",
      "      rain  sun\n",
      "cold   0.6  0.4\n",
      "hot    0.7  0.3\n"
     ]
    }
   ],
   "source": [
    "a1 = ProbabilityVector({'rain': 0.7, 'sun': 0.3})\n",
    "a2 = ProbabilityVector({'rain': 0.6, 'sun': 0.4})\n",
    "A  = ProbabilityMatrix({'hot': a1, 'cold': a2})\n",
    "\n",
    "print(A)\n",
    "print(A.df)"
   ]
  },
  {
   "cell_type": "code",
   "execution_count": 7,
   "metadata": {},
   "outputs": [
    {
     "name": "stdout",
     "output_type": "stream",
     "text": [
      "PM (2, 3) states: ['0H', '1C'] -> obs: ['0S', '1M', '2L'].\n",
      "     0S   1M   2L\n",
      "0H  0.1  0.4  0.5\n",
      "1C  0.7  0.2  0.1\n"
     ]
    }
   ],
   "source": [
    "b1 = ProbabilityVector({'0S': 0.1, '1M': 0.4, '2L': 0.5})\n",
    "b2 = ProbabilityVector({'0S': 0.7, '1M': 0.2, '2L': 0.1})\n",
    "\n",
    "B = ProbabilityMatrix({'0H': b1, '1C': b2})\n",
    "\n",
    "print(B)\n",
    "print(B.df)"
   ]
  },
  {
   "cell_type": "code",
   "execution_count": 8,
   "metadata": {},
   "outputs": [
    {
     "name": "stdout",
     "output_type": "stream",
     "text": [
      "Dot product: [[0.63 0.37]]\n",
      "Initialization: PM (4, 3) states: ['a', 'b', 'c', 'd'] -> obs: ['x', 'y', 'z'].\n",
      "          x         y         z\n",
      "a  0.323803  0.327106  0.349091\n",
      "b  0.318166  0.326356  0.355478\n",
      "c  0.311833  0.347983  0.340185\n",
      "d  0.337223  0.316850  0.345927\n"
     ]
    }
   ],
   "source": [
    "print('Dot product:', a1 @ A)\n",
    "\n",
    "P = ProbabilityMatrix.initialize(list('abcd'), list('xyz'))\n",
    "print('Initialization:', P)\n",
    "print(P.df)"
   ]
  },
  {
   "cell_type": "markdown",
   "metadata": {},
   "source": [
    "## Implementing Hidden Markov Layer\n",
    "Before we proceed with calculaing of the score, let's use our PV and PM definitions to implment of the Hidden Markov Chain.\n",
    "\n",
    "Again, we will do so as a class, calling it `HiddenMarkovChain`. It will collate $A$, $B$ and $\\pi$.\n",
    "Later on, we will implement more methods that are applicable to this class."
   ]
  },
  {
   "cell_type": "markdown",
   "metadata": {},
   "source": [
    "### Computing score\n",
    "Computing the score means to find what is the probability of a particular chain of observations $\\mathcal{O}$ given our (known) model $\\lambda = (A, B, \\pi)$. In other words, we are interested in finding $p(\\mathcal{O}|\\lambda)$.\n",
    "\n",
    "We can find $p(\\mathcal{O}|\\lambda)$ by _marginalizing_ all possible chains of the hidden variables $X$, where $X = \\{x_0,x_1,...x_{T-1}\\}$:\n",
    "\n",
    "$$\n",
    "p(\\mathcal{O}|\\lambda) = \\sum_X p(\\mathcal{O},X|\\lambda) = \\sum_X p(\\mathcal{O}|X,\\lambda)p(X|\\lambda)\n",
    "$$\n",
    "\n",
    "Since $p(\\mathcal{O}|X,\\lambda) = \\prod_{t=0}^{T-1} b_{x_t}(\\mathcal{O}_t)$ (the product of all probabilities related to the observables) and\n",
    "$p(X|\\lambda) = \\pi \\prod_{t=0}^{T-1} a_{x_{t+1},x_{t}}$ (the product of all probabiities of transitioning from $x_{t}$ to $x_{t+1}$, the probability we are looking for (the **score**) is:\n",
    "\n",
    "$$\n",
    "p(\\mathcal{O}|\\lambda) = \\sum_X \\pi b_{x_0}(\\mathcal{O}_0)a_{x_0,x_1}b_{x_1}(\n",
    "\\mathcal{O}_1)a_{x_1,x_2}...b_{x_{T-1}}(\\mathcal{O}_{T-1})a_{T-1,T-2} \\\\\n",
    "= \\sum_X \\pi \\prod_{t=0}^{T-1} a_{x_t,x_{t-1}}b_{x_{t}}(\\mathcal{O}_t)\n",
    "$$\n",
    "\n",
    "This is a naive way of computing of the score, since we need to calculate the probability for every possible chain $X$.\n",
    "Either way, let's implement it in python:"
   ]
  },
  {
   "cell_type": "code",
   "execution_count": 9,
   "metadata": {},
   "outputs": [],
   "source": [
    "from itertools import product\n",
    "from functools import reduce\n",
    "\n",
    "\n",
    "class HiddenMarkovChain:\n",
    "    def __init__(self, T, E, pi):\n",
    "        self.T = T  # transmission matrix A\n",
    "        self.E = E  # emission matrix B\n",
    "        self.pi = pi\n",
    "        self.states = pi.states\n",
    "        self.observables = E.observables\n",
    "    \n",
    "    def __repr__(self):\n",
    "        return \"HML states: {} -> observables: {}.\".format(\n",
    "            len(self.states), len(self.observables))\n",
    "    \n",
    "    @classmethod\n",
    "    def initialize(cls, states: list, observables: list):\n",
    "        T = ProbabilityMatrix.initialize(states, states)\n",
    "        E = ProbabilityMatrix.initialize(states, observables)\n",
    "        pi = ProbabilityVector.initialize(states)\n",
    "        return cls(T, E, pi)\n",
    "    \n",
    "    def _create_all_chains(self, chain_length):\n",
    "        return list(product(*(self.states,) * chain_length))\n",
    "    \n",
    "    def score(self, observations: list) -> float:\n",
    "        def mul(x, y): return x * y\n",
    "        \n",
    "        score = 0\n",
    "        all_chains = self._create_all_chains(len(observations))\n",
    "        for idx, chain in enumerate(all_chains):\n",
    "            expanded_chain = list(zip(chain, [self.T.states[0]] + list(chain)))\n",
    "            expanded_obser = list(zip(observations, chain))\n",
    "            \n",
    "            p_observations = list(map(lambda x: self.E.df.loc[x[1], x[0]], expanded_obser))\n",
    "            p_hidden_state = list(map(lambda x: self.T.df.loc[x[1], x[0]], expanded_chain))\n",
    "            p_hidden_state[0] = self.pi[chain[0]]\n",
    "            \n",
    "            score += reduce(mul, p_observations) * reduce(mul, p_hidden_state)\n",
    "        return score"
   ]
  },
  {
   "cell_type": "code",
   "execution_count": 10,
   "metadata": {},
   "outputs": [
    {
     "name": "stdout",
     "output_type": "stream",
     "text": [
      "Score for ['1S', '2M', '3L', '2M', '1S'] is 0.003482.\n"
     ]
    }
   ],
   "source": [
    "a1 = ProbabilityVector({'1H': 0.7, '2C': 0.3})                                                                \n",
    "a2 = ProbabilityVector({'1H': 0.4, '2C': 0.6})                                                                \n",
    "                                                                                                               \n",
    "b1 = ProbabilityVector({'1S': 0.1, '2M': 0.4, '3L': 0.5})                                                     \n",
    "b2 = ProbabilityVector({'1S': 0.7, '2M': 0.2, '3L': 0.1})                                                     \n",
    "                                                                                                                \n",
    "A = ProbabilityMatrix({'1H': a1, '2C': a2})                                                                   \n",
    "B = ProbabilityMatrix({'1H': b1, '2C': b2})                                                                   \n",
    "pi = ProbabilityVector({'1H': 0.6, '2C': 0.4})\n",
    "\n",
    "hmc = HiddenMarkovChain(A, B, pi)\n",
    "observations = ['1S', '2M', '3L', '2M', '1S']\n",
    "\n",
    "print(\"Score for {} is {:f}.\".format(observations, hmc.score(observations)))"
   ]
  },
  {
   "cell_type": "markdown",
   "metadata": {},
   "source": [
    "If our implementation is correct, then all score values for all possible observation chains, for a given model $\\lambda$ should add up to one.\n",
    "Namely:\n",
    "\n",
    "$$\n",
    "\\sum_{\\mathcal{O}} p(\\mathcal{O}|\\lambda) = 1\n",
    "$$"
   ]
  },
  {
   "cell_type": "code",
   "execution_count": 11,
   "metadata": {},
   "outputs": [
    {
     "name": "stdout",
     "output_type": "stream",
     "text": [
      "All possible scores added: 1.0.\n"
     ]
    }
   ],
   "source": [
    "all_possible_observations = {'1S', '2M', '3L'}\n",
    "chain_length = 3  # any int > 0\n",
    "all_observation_chains = list(product(*(all_possible_observations,) * chain_length))\n",
    "all_possible_scores = list(map(lambda obs: hmc.score(obs), all_observation_chains))\n",
    "print(\"All possible scores added: {}.\".format(sum(all_possible_scores)))"
   ]
  },
  {
   "cell_type": "markdown",
   "metadata": {},
   "source": [
    "Indeed."
   ]
  },
  {
   "cell_type": "markdown",
   "metadata": {},
   "source": [
    "## Score with Forward-pass\n",
    "Computing the score the way we did above is kind of naive.\n",
    "In order to find the number for a partivular observation chain $\\mathcal{O}$, we have to compute the score for all possble latent variable sequences $X$.\n",
    "That requries $2TN^T$ multiplications, which even for small numbers takes time.\n",
    "\n",
    "Another way to do it is to calculate _partial observations of a sequence up to time $t$_.\n",
    "For $i \\in \\{0, 1, ..., N-1\\}$ and $t \\in \\{0, 1, ..., T-1\\}$:\n",
    "$$\n",
    "\\alpha_t(i) = p(\\mathcal{O}_0, \\mathcal{O}_1, ..., \\mathcal{O}_t, x_t = q_i|\\lambda)\n",
    "$$\n",
    "\n",
    "Consequently,\n",
    "$$\n",
    "\\alpha_0(i) = \\pi b_i(\\mathcal{O}_0) \\quad \\text{for} \\quad i = 0, 1, ..., N-1\n",
    "$$\n",
    "and\n",
    "$$\n",
    "\\alpha_t(i) = \\left[\\sum_{j=0}^{N-1} \\alpha_{t-1}(j) a_{j,i}\\right] b_i(\\mathcal{O_t})\n",
    "$$\n",
    "\n",
    "Then\n",
    "$$\n",
    "p(\\mathcal{O}|\\lambda) = \\sum_{i=0}^{N-1} \\alpha_{T-1}(i)\n",
    "$$\n",
    "\n",
    "Note that $\\alpha_t$ is a vector of lenght $N$. The sum of the product $\\alpha_{t-1}(j)a_{j,i}$ can, in fact, be written as a dot product. Therefore:\n",
    "$$\n",
    "\\left[\\sum_{j=0}^{N-1} \\alpha_{t-1}(j)a_{j,i}\\right] b_i(\\mathcal{O}_t) = [\\vec{\\alpha}_{t-1} \\cdot \\mathbf{A}] \\star \\vec{b}^T(\\mathcal{O}_t) \\to \\vec{\\alpha}_t\n",
    "$$\n",
    "where by $\\star$ we denote an element-wise multiplication.\n",
    "\n",
    "With this implementation, we reduce the number of multiplication to $N^2T$ and can take advantage of vectorization."
   ]
  },
  {
   "cell_type": "code",
   "execution_count": 12,
   "metadata": {},
   "outputs": [],
   "source": [
    "class HiddenMarkovChain_FP(HiddenMarkovChain):\n",
    "    def _alphas(self, observations: list) -> np.ndarray:\n",
    "        alphas = np.zeros((len(observations), len(self.states)))\n",
    "        alphas[0, :] = self.pi.values * self.E[observations[0]].T\n",
    "        for t in range(1, len(observations)):\n",
    "            alphas[t, :] = (alphas[t - 1, :].reshape(1, -1) \n",
    "                         @ self.T.values) * self.E[observations[t]].T\n",
    "        return alphas\n",
    "    \n",
    "    def score(self, observations: list) -> float:\n",
    "        alphas = self._alphas(observations)\n",
    "        return float(alphas[-1].sum())"
   ]
  },
  {
   "cell_type": "code",
   "execution_count": 13,
   "metadata": {},
   "outputs": [
    {
     "name": "stdout",
     "output_type": "stream",
     "text": [
      "Score for ['1S', '2M', '3L', '2M', '1S'] is 0.003482.\n"
     ]
    }
   ],
   "source": [
    "hmc_fp = HiddenMarkovChain_FP(A, B, pi)\n",
    "\n",
    "observations = ['1S', '2M', '3L', '2M', '1S']\n",
    "print(\"Score for {} is {:f}.\".format(observations, hmc_fp.score(observations)))"
   ]
  },
  {
   "cell_type": "markdown",
   "metadata": {},
   "source": [
    "Let's also validate:"
   ]
  },
  {
   "cell_type": "code",
   "execution_count": 14,
   "metadata": {},
   "outputs": [
    {
     "name": "stdout",
     "output_type": "stream",
     "text": [
      "All possible scores added: 1.0.\n"
     ]
    }
   ],
   "source": [
    "all_possible_observations = {'1S', '2M', '3L'}\n",
    "chain_length = 3  # any int > 0\n",
    "all_observation_chains = list(product(*(all_possible_observations,) * chain_length))\n",
    "all_possible_scores = list(map(lambda obs: hmc_fp.score(obs), all_observation_chains))\n",
    "print(\"All possible scores added: {}.\".format(sum(all_possible_scores)))"
   ]
  },
  {
   "cell_type": "markdown",
   "metadata": {},
   "source": [
    "...yup.\n",
    "\n",
    "## Simulation and convergence\n",
    "Let's test one more thing.\n",
    "Basically, let's take our $\\lambda = (A, B, \\pi)$ and use it to generate a sequence of random observables, starting from some initial state probability $\\pi$.\n",
    "\n",
    "If the desired length $T$ is \"large enough\", we would expect that the system to converge on a sequence that, on average, gives the same number of events as we would expect from $\\mathbf{A}$ and $\\mathbf{B}$ matrices directly.\n",
    "In other words, the transition and the emission matrices \"decide\", with certain probability, what the next state will be and what observation we will get, for every step, respectively.\n",
    "Therefore, what may initially look like random events, on average shoud reflect the coefficients of the matrices themselves.\n",
    "Let's check that as well."
   ]
  },
  {
   "cell_type": "code",
   "execution_count": 15,
   "metadata": {},
   "outputs": [],
   "source": [
    "class HiddenMarkovChain_Simulation(HiddenMarkovChain):\n",
    "    def run(self, length: int) -> (list, list):\n",
    "        assert length >= 0, \"The chain needs to be a non-negative number.\"\n",
    "        s_history = [0] * (length + 1)\n",
    "        o_history = [0] * (length + 1)\n",
    "        \n",
    "        prb = self.pi.values\n",
    "        obs = prb @ self.E.values\n",
    "        s_history[0] = np.random.choice(self.states, p=prb.flatten())\n",
    "        o_history[0] = np.random.choice(self.observables, p=obs.flatten())\n",
    "        \n",
    "        for t in range(1, length + 1):\n",
    "            prb = prb @ self.T.values\n",
    "            obs = prb @ self.E.values\n",
    "            s_history[t] = np.random.choice(self.states, p=prb.flatten())\n",
    "            o_history[t] = np.random.choice(self.observables, p=obs.flatten())\n",
    "        \n",
    "        return o_history, s_history"
   ]
  },
  {
   "cell_type": "code",
   "execution_count": 16,
   "metadata": {},
   "outputs": [
    {
     "data": {
      "image/png": "[encoded data removed]",
      "text/plain": [
       "<Figure size 432x288 with 1 Axes>"
      ]
     },
     "metadata": {
      "needs_background": "light"
     },
     "output_type": "display_data"
    }
   ],
   "source": [
    "hmc_s = HiddenMarkovChain_Simulation(A, B, pi)\n",
    "observation_hist, states_hist = hmc_s.run(100)  # length = 1000\n",
    "stats = pd.DataFrame({\n",
    "    'observations': observation_hist,\n",
    "    'states': states_hist}).applymap(lambda x: int(x[0])).plot()"
   ]
  },
  {
   "cell_type": "markdown",
   "metadata": {},
   "source": [
    "### States\n",
    "The state matrix $\\mathbf{A}$ is given by the following coefficients:\n",
    "* $p(q_{t+1}=\\text{'1H'})|q_t=\\text{'1H'}) = 0.7$\n",
    "* $p(q_{t+1}=\\text{'1H'})|q_t=\\text{'2C'}) = 0.4$\n",
    "* $p(q_{t+1}=\\text{'2C'})|q_t=\\text{'1H'}) = 0.3$\n",
    "* $p(q_{t+1}=\\text{'2C'})|q_t=\\text{'2C'}) = 0.6$\n",
    "\n",
    "Consequently, the probability of \"being\" in the state '1H' at $t + 1$, regardless of the previous state, is equal to:\n",
    "\n",
    "$$\n",
    "p(q_{t+1}=\\text{'1H'}) = p(q_{t+1}=\\text{'1H'}|q_t=\\text{'1H'})p(q_t=\\text{'1H'})\n",
    "                       + p(q_{t+1}=\\text{'1H'}|q_t=\\text{'2C'})p(q_t=\\text{'2C'})\n",
    "$$\n",
    "If we assume that the _prior_ probabilities of being at some state at $t$ are totally random, then $p(q_{t+1}=\\text{'1H'}) = 1$ and $p(q_{t+1}=\\text{'2C'}) = 0.9$, which after renormalizing give 0.55 and 0.45, respectively.\n",
    "\n",
    "If we cound the number of occurences of each state and divide it by the number of elements in our sequence, we would get closer and closer to these number as the lenght of the sequence grows.\n",
    "\n",
    "For example:"
   ]
  },
  {
   "cell_type": "code",
   "execution_count": 17,
   "metadata": {},
   "outputs": [],
   "source": [
    "hmc_s = HiddenMarkovChain_Simulation(A, B, pi)\n",
    "\n",
    "stats = {}\n",
    "for length in np.logspace(1, 5, 40).astype(int):\n",
    "    observation_hist, states_hist = hmc_s.run(length)\n",
    "    stats[length] = pd.DataFrame({\n",
    "        'observations': observation_hist,\n",
    "        'states': states_hist}).applymap(lambda x: int(x[0]))"
   ]
  },
  {
   "cell_type": "code",
   "execution_count": 18,
   "metadata": {},
   "outputs": [],
   "source": [
    "S = np.array(list(map(lambda x: \n",
    "        x['states'].value_counts().to_numpy() / len(x), stats.values())))"
   ]
  },
  {
   "cell_type": "code",
   "execution_count": 20,
   "metadata": {},
   "outputs": [
    {
     "data": {
      "image/png": "[encoded data removed]",
      "text/plain": [
       "<Figure size 432x288 with 1 Axes>"
      ]
     },
     "metadata": {
      "needs_background": "light"
     },
     "output_type": "display_data"
    }
   ],
   "source": [
    "plt.semilogx(np.logspace(1, 5, 40).astype(int), S)\n",
    "plt.xlabel('Chain length T')\n",
    "plt.ylabel('Probability')\n",
    "plt.title('Converging probabilities.')\n",
    "plt.legend(['1H', '2C'])\n",
    "plt.show()"
   ]
  },
  {
   "cell_type": "markdown",
   "metadata": {},
   "source": [
    "## Conclusion\n",
    "This notebook was all about defining of the fundamental building blocks to our model.\n",
    "In the next notebook, we will show implement the methods to uncover the latent variables, given the observation chain."
   ]
  }
 ],
 "metadata": {
  "kernelspec": {
   "display_name": "Python 3",
   "language": "python",
   "name": "python3"
  },
  "language_info": {
   "codemirror_mode": {
    "name": "ipython",
    "version": 3
   },
   "file_extension": ".py",
   "mimetype": "text/x-python",
   "name": "python",
   "nbconvert_exporter": "python",
   "pygments_lexer": "ipython3",
   "version": "3.6.9"
  }
 },
 "nbformat": 4,
 "nbformat_minor": 2
}
